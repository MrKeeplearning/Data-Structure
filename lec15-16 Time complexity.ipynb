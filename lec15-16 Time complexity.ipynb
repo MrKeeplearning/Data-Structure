{
 "metadata": {
  "language_info": {
   "codemirror_mode": {
    "name": "ipython",
    "version": 3
   },
   "file_extension": ".py",
   "mimetype": "text/x-python",
   "name": "python",
   "nbconvert_exporter": "python",
   "pygments_lexer": "ipython3",
   "version": "3.9.1-final"
  },
  "orig_nbformat": 2,
  "kernelspec": {
   "name": "python3",
   "display_name": "Python 3.9.1 64-bit",
   "metadata": {
    "interpreter": {
     "hash": "4d6401091f6de5a385c299b068c1e85516af19a094234475c31f99f1aabe410a"
    }
   }
  }
 },
 "nbformat": 4,
 "nbformat_minor": 2,
 "cells": [
  {
   "source": [
    "# 알고리즘 복잡도 표현 방법\n",
    "---"
   ],
   "cell_type": "markdown",
   "metadata": {}
  },
  {
   "source": [
    "## 1. 알고리즘 복잡도 계산이 필요한 이유\n",
    "---\n",
    "하나의 문제를 푸는 알고리즘은 다양할 수 있다.\n",
    "* 정수의 절댓값을 구하는 방법은 여러가지가 될 수 있다.\n",
    "    * 1과 -1의 절댓값은 모두 1이다. 두 수의 절댓값을 구하는 방법을 생각해보자.\n",
    "    * Solution1: 정수 값을 제곱한 값에 다시 루트를 씌우기\n",
    "    * Solution2: if문을 사용해서 정수가 음수인지 확인한다. 음수라면 -1을 곱한다.\n",
    "\n",
    "> 이렇듯 한 가지 문제에 대해서도 해결할 수 있는 알고리즘이 다양하다. 다양한 알고리즘들 사이에서 어떤 것이 더 좋은지 분석하기 위해 복잡도를 정의하고 계산한다.    "
   ],
   "cell_type": "markdown",
   "metadata": {}
  },
  {
   "source": [
    "## 2. 알고리즘 복잡도 계산 항목\n",
    "---\n",
    "1. 시간 복잡도: 알고리즘의 실행 속도\n",
    "2. 공간 복잡도: 알고리즘이 사용하는 메모리 사이즈\n",
    "\n",
    "> ⭐**시간 복잡도**가 중요하며, 반드시 이해하고 계산할 수 있어야 한다!⭐\n",
    "\n",
    "### 알고리즘 시간 복잡도의 주요 요소\n",
    "> **반복문**을 가지고 시간 복잡도를 계산한다."
   ],
   "cell_type": "markdown",
   "metadata": {}
  },
  {
   "source": [
    "### 생각해보기\n",
    "자동차로 서울에서 부산을 가기 위해, 다음과 같이 항목을 나누었을 때, 가장 총 시간에 영향을 많이 미칠 것 같은 요소는?  \n",
    "\n",
    "1. 자동차 문열기\n",
    "2. 자동차 문닫기\n",
    "3. 자동차 운전석 등받이 조정하기\n",
    "4. 자동차 시동걸기\n",
    "5. 자동차로 서울에서 부산가기\n",
    "6. 자동차 시동끄기\n",
    "7. 자동차 문열기\n",
    "8. 자동차 문닫기\n",
    "\n",
    "1~4번과 6~8번은 별로 의미가 없는 시간이다. 반면 5번은 서울에서 부산까지 가는 여정에서 가장 핵심적인 부분이다.  \n",
    "서울에서 부산까지 가는데 30분이 채 걸리지 않는다면 5번 이외의 요소들도 중요할 수 있으나 그렇지 않기 때문에 자동차의 문을 열 때 2분이 걸리건 3분이 걸리건 크게 중요하지 않은 것이다. 이처럼 한 가지 항목이 전체의 대소를 좌우하는 것을 **지배한다(dominate)**라고 표현한다.\n",
    "\n",
    "마찬가지로 알고리즘에서 시간복잡도를 계산할 때 어느 부분에서 시간이 많이 걸리는지 고민해보면, if문을 많이 사용하는지, 변수를 몇 개 더 선언하면 그 만큼 실행시간이 더 걸리는지 등등 이러한 부분이 중요한 것이 아니다. 가장 시간이 많이 걸리는 것은 **반복문**이다!  \n",
    "\n",
    "반복문을 어떻게 구성했는지에 따라서 알고리즘의 성능이 달라질 수 있다.\n",
    "\n",
    "> 🔥입력의 크기가 커질수록 반복하는 횟수가 크게 차이나기 시작하고 이러한 부분 때문에 반복문이 알고리즘 수행 시간을 지배하는 것이다."
   ],
   "cell_type": "markdown",
   "metadata": {}
  },
  {
   "source": [
    "### 알고리즘 성능 표기법\n",
    "* Big O (빅오) 표기법: O(n)\n",
    "\n",
    "    * 알고리즘 최악의 실행 시간을 표기한다.\n",
    "    * 가장 많이/일반적으로 사용.\n",
    "    * 아무리 최악의 상황이라도, 이 정도의 성능은 보장한다는 의미.\n",
    "\n",
    "* Ω (오메가) 표기법:  Ω(N)\n",
    "\n",
    "    * 알고리즘 최상의 실행 시간을 표기.\n",
    "    \n",
    "* Θ (세타) 표기법: Θ(N)\n",
    "\n",
    "    * 오메가 표기법은 알고리즘 평균 실행 시간을 표기"
   ],
   "cell_type": "markdown",
   "metadata": {}
  },
  {
   "source": [
    "## 3. Big-O 표기법\n",
    "\n",
    "* O(입력)\n",
    "  * 입력 n 에 따라 결정되는 시간 복잡도 함수\n",
    "  * O(1), O($log n$), O($n$), O(n$log n$), O($n^2$), O($2^n$), O($n!$)등으로 표기한다.\n",
    "  * 입력 n 의 크기에 따라 기하급수적으로 시간 복잡도가 늘어날 수 있다.\n",
    "  * O(1) < O($log n$) < O(n) < O(n$log n$) < O($n^2$) < O($2^n$) < O(n!)\n",
    "    * 참고: $log n$ 의 베이스는 2이다. ($log_2 n$)\n",
    "\n",
    "\n",
    "* 단순히 입력 n에 따라, 몇 번 실행이 되는지를 계산하면 된다.\n",
    "    * 표현식에 가장 큰 영향을 미치는 n의 단위로 표기한다.\n",
    "    * n에 어떤 수가 들어있던지 실행을...\n",
    "        * 무조건 2회(상수회) 실행한다: O(1)\n",
    "        ```python\n",
    "        if n > 10:\n",
    "            print(n)\n",
    "        ```\n",
    "        * n에 따라서 n회, n + 10회, 또는 3n + 10회 등 실행한다: O(n)\n",
    "        ```python\n",
    "        # n회 수행\n",
    "        for index in range(n):\n",
    "            print(index)\n",
    "\n",
    "        # n + 1회 수행 (반복문 n회 + 변수 선언 1회)\n",
    "        variable = 1\n",
    "        for index in range(n):\n",
    "            print(index)\n",
    "\n",
    "        # 3n + 1회 수행\n",
    "        variable = 1\n",
    "        for num in range(3):\n",
    "            for index in range(n):\n",
    "                print(index)\n",
    "        ```\n",
    "        * n에 따라, $n^2$번, $n^2$ + 1000 번, 100$n^2$ - 100, 또는 300$n^2$ + 1번등 실행한다: O($n^2$)\n",
    "        ```python\n",
    "        # 300n^2 + 1회 수행\n",
    "        variable = 1\n",
    "        for i in range(300):\n",
    "            for num in range(n):\n",
    "                for index in range(n):\n",
    "                    print(index)\n",
    "        ```"
   ],
   "cell_type": "markdown",
   "metadata": {}
  },
  {
   "source": [
    "<img src = \"https://miro.medium.com/max/700/1*FkQzWqqIMlAHZ_xNrEPKeA.png\" width=400/>  \n",
    "\n",
    "* 출처: https://medium.com/dataseries/how-to-calculate-time-complexity-with-big-o-notation-9afe33aa4c46"
   ],
   "cell_type": "markdown",
   "metadata": {}
  },
  {
   "source": [
    "* Big-O 입력값 표기 방법\n",
    "    * 만약 시간 복잡도 함수가 $2n^2 + 3n$으로 나왔다면...\n",
    "        * 최고차항인 $2n^2$이 가장 중요하다.\n",
    "        * 상수는 큰 영향을 미치지 못한다.\n",
    "        * 따라서 Big-O 표기법으로는 O($n^2$)으로 표기할 수 있다."
   ],
   "cell_type": "markdown",
   "metadata": {}
  },
  {
   "source": [
    "## 4. 연습문제\n",
    "---\n",
    "### 연습문제1: 1부터 n까지의 합을 구하는 알고리즘 작성해보기\n",
    "\n",
    "1부터 n까지의 합을 구하는 알고리즘은 어떻게 구현할 수 있을까?\n",
    "\n",
    "### 알고리즘1\n",
    "* 합을 기록할 변수 total을 만들고 0으로 초기화.\n",
    "* 1부터 n까지 1씩 증가하는 것을 반복.\n",
    "* 반복문 안에서 sum에 1씩 증가된 값을 더한다.\n",
    "* 반복이 종료되면 합을 출력한다."
   ],
   "cell_type": "markdown",
   "metadata": {}
  },
  {
   "cell_type": "code",
   "execution_count": 2,
   "metadata": {},
   "outputs": [],
   "source": [
    "def sumAll(n):\n",
    "    total = 0\n",
    "    for num in range(1, n+1):\n",
    "        total += num\n",
    "    return total"
   ]
  },
  {
   "cell_type": "code",
   "execution_count": 3,
   "metadata": {},
   "outputs": [
    {
     "output_type": "execute_result",
     "data": {
      "text/plain": [
       "5050"
      ]
     },
     "metadata": {},
     "execution_count": 3
    }
   ],
   "source": [
    "sumAll(100)"
   ]
  },
  {
   "source": [
    "알고리즘1은 입력값 n에 따라서 총 n회 실행한다. 만약, `total = 0`과 `return total`까지 실행문이라고 생각하면 n+2회 실행한다고 할 수도 있다. 하지만, 빅오 표기법으로 시간복잡도를 표현하면 몇 회를 수행하던 $O(n)$이 된다. "
   ],
   "cell_type": "markdown",
   "metadata": {}
  },
  {
   "source": [
    "### 알고리즘2\n",
    "* $\\frac { n (n + 1) }{ 2 }$"
   ],
   "cell_type": "markdown",
   "metadata": {}
  },
  {
   "cell_type": "code",
   "execution_count": 5,
   "metadata": {},
   "outputs": [],
   "source": [
    "def sumAll2(n):\n",
    "    return int(n * (n + 1) / 2)"
   ]
  },
  {
   "cell_type": "code",
   "execution_count": 6,
   "metadata": {},
   "outputs": [
    {
     "output_type": "execute_result",
     "data": {
      "text/plain": [
       "5050"
      ]
     },
     "metadata": {},
     "execution_count": 6
    }
   ],
   "source": [
    "sumAll2(100)"
   ]
  },
  {
   "source": [
    "알고리즘2는 n이 어떤 수가 되던 항상 실행하는 수행문은 return문 한 줄 밖에 없다.  \n",
    "따라서, 시간 복잡도는 1이 되고 빅 오 표기법으로는 $O(1)$으로 표현할 수 있다."
   ],
   "cell_type": "markdown",
   "metadata": {}
  },
  {
   "source": [
    "### 그렇다면 알고리즘1과 알고리즘2 둘 중 어떤 것이 성능이 더 좋을까?\n",
    "* 알고리즘1의 시간복잡도: $O(n)$\n",
    "* 알고리즘2의 시간복잡도: $O(1)$\n",
    "\n",
    "<img src = \"https://miro.medium.com/max/700/1*FkQzWqqIMlAHZ_xNrEPKeA.png\" width=400/>  \n",
    "\n",
    "* 출처: https://medium.com/dataseries/how-to-calculate-time-complexity-with-big-o-notation-9afe33aa4c46\n",
    "\n",
    "위에서 살펴 본 그래프를 다시 가져와서 참고하면, $O(n)$는 input이 커지는 것에 비례해서 소요시간이 증가하지만 $O(1)$는 input이 아무리 커져도 소요시간에는 변화가 없다. 따라서, 알고리즘2의 성능이 더 좋다고 할 수 있다.  \n",
    "\n",
    "좀 더 자세히 말하자면, $O(1)$는 $O(n)$보다 특정 크기까지는 성능이 더 안좋지만 특정 크기를 넘어가는 순간 성능이 더 좋다고 할 수 있다. 결론적으로 충분히 큰 데이터에 대해서 $O(1)$이 $O(n)$보다 좋은 성능을 가지는 것이다."
   ],
   "cell_type": "markdown",
   "metadata": {}
  }
 ]
}
