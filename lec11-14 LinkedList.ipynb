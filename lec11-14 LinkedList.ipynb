{
 "metadata": {
  "language_info": {
   "codemirror_mode": {
    "name": "ipython",
    "version": 3
   },
   "file_extension": ".py",
   "mimetype": "text/x-python",
   "name": "python",
   "nbconvert_exporter": "python",
   "pygments_lexer": "ipython3",
   "version": "3.9.1"
  },
  "orig_nbformat": 2,
  "kernelspec": {
   "name": "python3",
   "display_name": "Python 3.9.1 64-bit",
   "metadata": {
    "interpreter": {
     "hash": "6274fd37f9ef3619bb42a8871e7d2caff5bde4185d44d064c16d05f9687fc593"
    }
   }
  }
 },
 "nbformat": 4,
 "nbformat_minor": 2,
 "cells": [
  {
   "source": [
    "# 링크드 리스트(Linked List)\n",
    "---"
   ],
   "cell_type": "markdown",
   "metadata": {}
  },
  {
   "source": [
    "## 1. 링크드 리스트 구조\n",
    "---\n",
    "\n",
    "### 1.1. 링크드 리스트란?\n",
    "* 한국어로 번역하면서 일반적으로 링크드 리스트는 **연결 리스트**라고도 호칭한다.\n",
    "* 배열은 순차적으로 연결된 공간에 데이터를 넣는 구조를 가지고 있다. 그런데, 이 배열의 최대 단점은 미리 연결된 공간을 예약해야 한다는 점이다. 배열의 데이터가 연결되지 않고 띄어지는 순간 배열은 그 기능을 상실하게 된다(index 번호가 없어짐).\n",
    "* 배열의 위와 같은 단점을 해결하기 위해 나온 것이 **Linked List**이다.\n",
    "    * Linked List는 배열과 달리 미리 공간을 예약하지 않고 필요할 때마다 데이터를 추가할 수 있는 구조를 가지고 있다.\n",
    "\n",
    "### 1.2. 링크드 리스트의 기본 구조와 용어\n",
    "* 노드(Node): 데이터 저장 단위인 데이터값과 포인터로 구성\n",
    "    * 배열은 데이터만 저장하면 되는데, Linked List는 데이터와 다음 데이터를 가리키는 주소가 하나의 단위이며 이것을 노드라고 칭한다.\n",
    "* 포인터(pointer): 각 노드 안에서, 다음이나 이전의 노드와의 연결 정보를 가지고 있는 공간(데이터 주소)\n",
    "* 링크드 리스트의 형태  \n",
    "<br>\n",
    "![Linked List](https://upload.wikimedia.org/wikipedia/commons/thumb/6/6d/Singly-linked-list.svg/1200px-Singly-linked-list.svg.png)\n",
    "(출처: https://en.wikipedia.org/wiki/Linked_list)"
   ],
   "cell_type": "markdown",
   "metadata": {}
  },
  {
   "source": [
    "## 2. 간단한 링크드 리스트 예\n",
    "---\n"
   ],
   "cell_type": "markdown",
   "metadata": {}
  },
  {
   "source": [
    "### 2.1. 노드(Node) 구현\n",
    "파이썬에서 링크드 리스트 구현 시, 파이썬 클래스를 활용한다.  \n",
    "\n",
    "클래스를 사용해서 하나의 노드를 만드는 이유는, 하나의 노드에는 2가지의 데이터를 저장해야 하는데 이 두 가지 데이터를 저장할 수 있는 구조를 만들 때 클래스를 사용하는 것이 수월하기 때문에 클래스를 사용한다.  \n",
    "\n",
    "노드라는 객체는 만들어질 때마다 별도의 객체가 만들어지고 그 안에 데이터 저장공간과 주소를 넣을 공간이 만들어져야 하기 때문에 `__init__`이라는 함수를 사용한다."
   ],
   "cell_type": "markdown",
   "metadata": {}
  },
  {
   "cell_type": "code",
   "execution_count": 1,
   "metadata": {},
   "outputs": [],
   "source": [
    "class Node:\n",
    "    def __init__(self, data):\n",
    "        self.data = data\n",
    "        self.next = None"
   ]
  },
  {
   "source": [
    "위 클래스를 조금 더 의미있게 써본다면 아래와 같다.  \n",
    "\n",
    "Node 클래스에서 실제 인자는 data 하나이다. 만약 다음 노드를 가리킬 주소까지 넣어주려면 인자를 2개 써주고 2번째 인자인 next를 주소로 인지하고 주소값을 next에 넣어준다. 만약 인자를 하나만 사용하면 2번째 인자는 None으로 생각해서 next에 None이 들어가게 된다."
   ],
   "cell_type": "markdown",
   "metadata": {}
  },
  {
   "cell_type": "code",
   "execution_count": 2,
   "metadata": {},
   "outputs": [],
   "source": [
    "class Node:\n",
    "    def __init__(self, data, next=None):\n",
    "        self.data = data\n",
    "        self.next = next"
   ]
  },
  {
   "source": [
    "### 2.2. Node와 Node 연결하기 (포인터 활용)"
   ],
   "cell_type": "markdown",
   "metadata": {}
  },
  {
   "cell_type": "code",
   "execution_count": 3,
   "metadata": {},
   "outputs": [],
   "source": [
    "node1 = Node(1)\n",
    "node2 = Node(2)\n",
    "node1.next = node2\n",
    "head = node1"
   ]
  },
  {
   "source": [
    "링크드 리스트에서 데이터를 읽거나 탐색하려면 가장 맨 앞에 있는 노드는 알고 있어야 한다. `node1.next = node2`라고 표현을 했기 때문에 node1이 가장 앞에 있는 노드가 되고 head라는 별도의 변수를 사용해서 node1의 주소값을 가지게 만든다."
   ],
   "cell_type": "markdown",
   "metadata": {}
  },
  {
   "source": [
    "### 2.3. 링크드 리스트로 데이터 추가하기"
   ],
   "cell_type": "markdown",
   "metadata": {}
  },
  {
   "cell_type": "code",
   "execution_count": 4,
   "metadata": {},
   "outputs": [],
   "source": [
    "class Node:\n",
    "    def __init__(self, data, next=None):\n",
    "        self.data = data\n",
    "        self.next = next\n",
    "\n",
    "def add(data):\n",
    "    node = head\n",
    "\n",
    "    # 데이터를 추가할 때는 맨 끝의 노드를 찾아가야 한다.\n",
    "    while node.next:        # node에 next가 있는지 확인\n",
    "        node = node.next    # next가 있다면 현재의 노드를 node.next로 저장\n",
    "    \n",
    "    # 만약 next가 None이라면 while문을 탈출하고 현재의 노드가 마지막 노드가 된다.\n",
    "    # 현재의 노드는 아무것도 연결될 것이 없는 상태이기 때문에 여기에 새로운 노드 객체를 생성한다.\n",
    "    node.next = Node(data)"
   ]
  },
  {
   "cell_type": "code",
   "execution_count": 6,
   "metadata": {},
   "outputs": [],
   "source": [
    "node1 = Node(1)\n",
    "node2 = Node(2)\n",
    "head = node1\n",
    "node1.next = node2\n",
    "for i in range(3, 11):\n",
    "    add(i)"
   ]
  },
  {
   "source": [
    "### 2.4. 링크드 리스트 데이터 출력하기(검색하기)"
   ],
   "cell_type": "markdown",
   "metadata": {}
  },
  {
   "cell_type": "code",
   "execution_count": 7,
   "metadata": {},
   "outputs": [
    {
     "output_type": "stream",
     "name": "stdout",
     "text": [
      "1\n2\n3\n4\n5\n6\n7\n8\n9\n10\n"
     ]
    }
   ],
   "source": [
    "node = head\n",
    "while node.next:\n",
    "    print(node.data)\n",
    "    node = node.next\n",
    "print(node.data)"
   ]
  },
  {
   "source": [
    "## 3. 링크드 리스트의 장단점(전통적인 C언어에서의 배열과 링크드리스트)\n",
    "---\n"
   ],
   "cell_type": "markdown",
   "metadata": {}
  }
 ]
}