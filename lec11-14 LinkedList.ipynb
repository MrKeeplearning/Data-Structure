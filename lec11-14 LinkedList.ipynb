{
 "metadata": {
  "language_info": {
   "codemirror_mode": {
    "name": "ipython",
    "version": 3
   },
   "file_extension": ".py",
   "mimetype": "text/x-python",
   "name": "python",
   "nbconvert_exporter": "python",
   "pygments_lexer": "ipython3",
   "version": 3
  },
  "orig_nbformat": 2
 },
 "nbformat": 4,
 "nbformat_minor": 2,
 "cells": [
  {
   "source": [
    "# 링크드 리스트(Linked List)\n",
    "---"
   ],
   "cell_type": "markdown",
   "metadata": {}
  },
  {
   "source": [
    "## 1. 링크드 리스트 구조\n",
    "---\n",
    "\n",
    "### 1.1. 링크드 리스트란?\n",
    "* 한국어로 번역하면서 일반적으로 링크드 리스트는 **연결 리스트**라고도 호칭한다.\n",
    "* 배열은 순차적으로 연결된 공간에 데이터를 넣는 구조를 가지고 있다. 그런데, 이 배열의 최대 단점은 미리 연결된 공간을 예약해야 한다는 점이다. 배열의 데이터가 연결되지 않고 띄어지는 순간 배열은 그 기능을 상실하게 된다(index 번호가 없어짐).\n",
    "* 배열의 위와 같은 단점을 해결하기 위해 나온 것이 **Linked List**이다.\n",
    "    * Linked List는 배열과 달리 미리 공간을 예약하지 않고 필요할 때마다 데이터를 추가할 수 있는 구조를 가지고 있다.\n",
    "\n",
    "### 1.2. 링크드 리스트의 기본 구조와 용어\n",
    "* 노드(Node): 데이터 저장 단위인 데이터값과 포인터로 구성\n",
    "    * 배열은 데이터만 저장하면 되는데, Linked List는 데이터와 다음 데이터를 가리키는 주소가 하나의 단위이며 이것을 노드라고 칭한다.\n",
    "* 포인터(pointer): 각 노드 안에서, 다음이나 이전의 노드와의 연결 정보를 가지고 있는 공간\n",
    "* 링크드 리스트의 형태  \n",
    "![Linked List](https://commons.wikimedia.org/wiki/File:Singly_linked_list.png#/media/파일:Singly_linked_list.png)\n",
    "<img src=\"https://commons.wikimedia.org/wiki/File:Singly_linked_list.png#/media/파일:Singly_linked_list.png\" />\n",
    "(출처: wikipedia, https://en.wikipedia.org/wiki/Linked_list)"
   ],
   "cell_type": "markdown",
   "metadata": {}
  }
 ]
}