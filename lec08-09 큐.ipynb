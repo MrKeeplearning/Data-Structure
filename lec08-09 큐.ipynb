{
 "metadata": {
  "language_info": {
   "codemirror_mode": {
    "name": "ipython",
    "version": 3
   },
   "file_extension": ".py",
   "mimetype": "text/x-python",
   "name": "python",
   "nbconvert_exporter": "python",
   "pygments_lexer": "ipython3",
   "version": "3.9.1-final"
  },
  "orig_nbformat": 2,
  "kernelspec": {
   "name": "python3",
   "display_name": "Python 3.9.1 64-bit",
   "metadata": {
    "interpreter": {
     "hash": "4d6401091f6de5a385c299b068c1e85516af19a094234475c31f99f1aabe410a"
    }
   }
  }
 },
 "nbformat": 4,
 "nbformat_minor": 2,
 "cells": [
  {
   "source": [
    "# 큐(Queue)\n",
    "\n",
    "## 1. 큐의 구조\n",
    "---\n",
    "이마트의 계산대에 줄을 서는 것을 생각해보자. 너무나도 당연한 얘기이지만, 당연히 먼저 줄을 선 사람이 먼저 계산을 마치고 계산대를 빠져나갈 수 있다(새치기를 하거나 우유를 사는 것을 깜빡하여 줄을 이탈하는 경우는 생각하지 말자;;).  \n",
    "큐의 구조는 줄을 서는 것과 유사하다. 가장 먼저 넣은 데이터(First In)를 가장 먼저 꺼내는(First Out) 구조를 가지고 있다. 스택(stack)은 Last In First Out(LIFO) 정책을 따른다는 점과 상반된다.\n",
    "\n",
    "<img src=\"https://www.fun-coding.org/00_Images/queue.png\" />\n",
    "* 출처: http://www.stoimen.com/blog/2012/06/05/computer-algorithms-stack-and-queue-data-structure/"
   ],
   "cell_type": "markdown",
   "metadata": {}
  },
  {
   "source": [
    "## 2. 용어\n",
    "---\n",
    "First In First Out에서 In과 Out이라는 행위에는 각각 Queue에서 따로 부르는 이름이 있다. 이러한 용어는 기억해두자.\n",
    "* Enqueue: 큐에 데이터를 넣는 기능 (In)\n",
    "* Dequeue: 큐에서 데이터를 꺼내는 기능 (Out)"
   ],
   "cell_type": "markdown",
   "metadata": {}
  },
  {
   "source": [
    "## 3. 파이썬의 queue 라이브러리 활용하기\n",
    "---\n"
   ],
   "cell_type": "markdown",
   "metadata": {}
  },
  {
   "source": [
    "### 3.1 Queue()로 큐 만들기 (일반적인 FIFO구조의 큐)"
   ],
   "cell_type": "markdown",
   "metadata": {}
  },
  {
   "cell_type": "code",
   "execution_count": 1,
   "metadata": {},
   "outputs": [],
   "source": [
    "import queue\n",
    "\n",
    "data_queue = queue.Queue()"
   ]
  },
  {
   "cell_type": "code",
   "execution_count": 2,
   "metadata": {},
   "outputs": [],
   "source": [
    "# put은 큐에 데이터를 넣어준다.\n",
    "data_queue.put(\"keeplearning\")\n",
    "data_queue.put(1)"
   ]
  },
  {
   "cell_type": "code",
   "execution_count": 3,
   "metadata": {},
   "outputs": [
    {
     "output_type": "execute_result",
     "data": {
      "text/plain": [
       "2"
      ]
     },
     "metadata": {},
     "execution_count": 3
    }
   ],
   "source": [
    "# qsize()는 현재 큐의 사이즈를 출력한다.\n",
    "data_queue.qsize()"
   ]
  },
  {
   "cell_type": "code",
   "execution_count": 4,
   "metadata": {},
   "outputs": [
    {
     "output_type": "execute_result",
     "data": {
      "text/plain": [
       "'keeplearning'"
      ]
     },
     "metadata": {},
     "execution_count": 4
    }
   ],
   "source": [
    "# 큐에서 데이터를 추출한다. 별도의 인자는 없다.\n",
    "data_queue.get()"
   ]
  },
  {
   "source": [
    "큐는 기본적으로 FIFO 구조를 따르기 때문에 가장 먼저 넣었던 데이터인 'keeplearning'이라는 문자열이 출력되었다."
   ],
   "cell_type": "markdown",
   "metadata": {}
  },
  {
   "cell_type": "code",
   "execution_count": 5,
   "metadata": {},
   "outputs": [
    {
     "output_type": "execute_result",
     "data": {
      "text/plain": [
       "1"
      ]
     },
     "metadata": {},
     "execution_count": 5
    }
   ],
   "source": [
    "data_queue.qsize()"
   ]
  },
  {
   "cell_type": "code",
   "execution_count": 6,
   "metadata": {},
   "outputs": [
    {
     "output_type": "execute_result",
     "data": {
      "text/plain": [
       "1"
      ]
     },
     "metadata": {},
     "execution_count": 6
    }
   ],
   "source": [
    "data_queue.get()"
   ]
  },
  {
   "cell_type": "code",
   "execution_count": 7,
   "metadata": {},
   "outputs": [
    {
     "output_type": "execute_result",
     "data": {
      "text/plain": [
       "0"
      ]
     },
     "metadata": {},
     "execution_count": 7
    }
   ],
   "source": [
    "data_queue.qsize()"
   ]
  },
  {
   "source": [
    "### 3.2 LifoQueue()로 큐 만들기 (LIFO 구조의 큐)"
   ],
   "cell_type": "markdown",
   "metadata": {}
  },
  {
   "cell_type": "code",
   "execution_count": 8,
   "metadata": {},
   "outputs": [],
   "source": [
    "import queue\n",
    "data_queue = queue.LifoQueue()"
   ]
  },
  {
   "cell_type": "code",
   "execution_count": 9,
   "metadata": {},
   "outputs": [],
   "source": [
    "data_queue.put(\"keeplearning\")\n",
    "data_queue.put(10)"
   ]
  },
  {
   "cell_type": "code",
   "execution_count": 10,
   "metadata": {},
   "outputs": [
    {
     "output_type": "execute_result",
     "data": {
      "text/plain": [
       "2"
      ]
     },
     "metadata": {},
     "execution_count": 10
    }
   ],
   "source": [
    "data_queue.qsize()"
   ]
  },
  {
   "cell_type": "code",
   "execution_count": 11,
   "metadata": {},
   "outputs": [
    {
     "output_type": "stream",
     "name": "stdout",
     "text": [
      "10\nkeeplearning\n"
     ]
    }
   ],
   "source": [
    "print(data_queue.get())\n",
    "print(data_queue.get())"
   ]
  },
  {
   "source": [
    "LIFO의 경우 마지막에 넣은 것이 가장 먼저 추출되기 때문에 첫 번째로 데이터를 추출했을 때 10이 출력된다."
   ],
   "cell_type": "markdown",
   "metadata": {}
  },
  {
   "source": [
    "### 3.3 PriorityQueue()로 큐 만들기 \n",
    "PriorityQueue는 각각의 데이터를 넣을 때마다 우선순위 번호를 같이 넣어준다. 그래서 이 안에서 데이터를 추출할 때는 가장 우선순위가 높은 데이터를 추출하게끔 만든다. 즉, 데이터를 넣는 시간 순서에 따라서 추출되는 데이터가 달라지는 것이 아니라, 데이터를 넣을 때 정해진 순서에 따라서 추출되는 것이다."
   ],
   "cell_type": "markdown",
   "metadata": {}
  },
  {
   "cell_type": "code",
   "execution_count": 12,
   "metadata": {},
   "outputs": [],
   "source": [
    "import queue\n",
    "data_queue = queue.PriorityQueue()"
   ]
  },
  {
   "source": [
    "데이터를 넣어줄 때는 튜플의 형태로 넣어준다. 첫 번째 인자는 순서이고, 두 번째 인자는 넣을 데이터를 뜻한다."
   ],
   "cell_type": "markdown",
   "metadata": {}
  },
  {
   "cell_type": "code",
   "execution_count": 13,
   "metadata": {},
   "outputs": [],
   "source": [
    "data_queue.put((10, \"korea\"))\n",
    "data_queue.put((5, 100))\n",
    "data_queue.put((25, \"keeplearning\"))"
   ]
  },
  {
   "cell_type": "code",
   "execution_count": 14,
   "metadata": {},
   "outputs": [
    {
     "output_type": "execute_result",
     "data": {
      "text/plain": [
       "3"
      ]
     },
     "metadata": {},
     "execution_count": 14
    }
   ],
   "source": [
    "data_queue.qsize()"
   ]
  },
  {
   "cell_type": "code",
   "execution_count": 15,
   "metadata": {},
   "outputs": [
    {
     "output_type": "stream",
     "name": "stdout",
     "text": [
      "(5, 100)\n(10, 'korea')\n(25, 'keeplearning')\n"
     ]
    }
   ],
   "source": [
    "print(data_queue.get())\n",
    "print(data_queue.get())\n",
    "print(data_queue.get())"
   ]
  },
  {
   "source": [
    "우선순위는 숫자가 작을수록 높다. 따라서 우선순위에 해당하는 숫자 중 5가 가장 작기 때문에 최고우선순위를 가지게 되고 첫 번째로 (5, 100)이 추출된 것이다."
   ],
   "cell_type": "markdown",
   "metadata": {}
  },
  {
   "source": [
    "## 4. 프로그래밍 연습\n",
    "---"
   ],
   "cell_type": "markdown",
   "metadata": {}
  },
  {
   "source": [
    "### 4.1 연습문제1\n",
    "리스트 변수로 큐를 다루는 enqueue, dequeue 기능 구현해보기"
   ],
   "cell_type": "markdown",
   "metadata": {}
  },
  {
   "cell_type": "code",
   "execution_count": 16,
   "metadata": {},
   "outputs": [],
   "source": [
    "queue_list = list() # 큐를 생성한다.\n",
    "\n",
    "def enqueue(data):\n",
    "    queue_list.append(data)\n",
    "\n",
    "def dequeue():\n",
    "    data = queue_list[0]    # FIFO를 따를 경우, 0번 인덱스가 가장 먼저 들어온 데이터이다.\n",
    "    del queue_list[0]\n",
    "    return data "
   ]
  },
  {
   "cell_type": "code",
   "execution_count": 17,
   "metadata": {},
   "outputs": [],
   "source": [
    "for index in range(10):\n",
    "    enqueue(index)"
   ]
  },
  {
   "cell_type": "code",
   "execution_count": 18,
   "metadata": {},
   "outputs": [
    {
     "output_type": "execute_result",
     "data": {
      "text/plain": [
       "10"
      ]
     },
     "metadata": {},
     "execution_count": 18
    }
   ],
   "source": [
    "len(queue_list)"
   ]
  },
  {
   "cell_type": "code",
   "execution_count": 19,
   "metadata": {},
   "outputs": [
    {
     "output_type": "execute_result",
     "data": {
      "text/plain": [
       "0"
      ]
     },
     "metadata": {},
     "execution_count": 19
    }
   ],
   "source": [
    "# 먼저 들어온 데이터부터 빠져나온다.\n",
    "dequeue()"
   ]
  },
  {
   "source": [
    "위에서 구현한 dequeue는 리스트 관련 함수 중 pop()을 사용하면 좀 더 간단하게 작성이 가능하다.  \n",
    "\n",
    "기본적으로 pop()은 리스트의 맨 마지막 요소를 돌려주고 그 요소는 삭제한다. 이러한 특징은 LIFO를 따르는 queue일 경우 적절한 해법이 될 수 있다. 하지만 지금은 FIFO를 따르는 queue를 다루고 있기 때문에 일반적인 pop()을 사용해서는 안된다.  \n",
    "\n",
    "pop()이 아닌 pop(x)를 사용하면 리스트의 x번째 요소를 돌려주고 그 요소는 삭제한다. FIFO의 경우 First In First Out이고, 리스트의 First는 항상 0번째 요소이다. 따라서 pop(0)라고 하면 첫 번째 요소를 돌려주고 삭제하게 된다. 굳이 `del`을 사용할 필요가 없다. "
   ],
   "cell_type": "markdown",
   "metadata": {}
  },
  {
   "cell_type": "code",
   "execution_count": 20,
   "metadata": {},
   "outputs": [],
   "source": [
    "queue_list1 = list()\n",
    "\n",
    "def enqueue(data):\n",
    "    queue_list1.append(data)\n",
    "def dequeue():\n",
    "    return queue_list1.pop(0)"
   ]
  },
  {
   "cell_type": "code",
   "execution_count": 21,
   "metadata": {},
   "outputs": [
    {
     "output_type": "execute_result",
     "data": {
      "text/plain": [
       "10"
      ]
     },
     "metadata": {},
     "execution_count": 21
    }
   ],
   "source": [
    "for index in range(10):\n",
    "    enqueue(index)\n",
    "\n",
    "len(queue_list1)"
   ]
  },
  {
   "cell_type": "code",
   "execution_count": 22,
   "metadata": {},
   "outputs": [
    {
     "output_type": "execute_result",
     "data": {
      "text/plain": [
       "0"
      ]
     },
     "metadata": {},
     "execution_count": 22
    }
   ],
   "source": [
    "dequeue()"
   ]
  },
  {
   "cell_type": "code",
   "execution_count": 23,
   "metadata": {},
   "outputs": [
    {
     "output_type": "execute_result",
     "data": {
      "text/plain": [
       "[1, 2, 3, 4, 5, 6, 7, 8, 9]"
      ]
     },
     "metadata": {},
     "execution_count": 23
    }
   ],
   "source": [
    "queue_list1"
   ]
  },
  {
   "source": [
    "`pop(0)`를 사용해서 처음 들어온 데이터가 가장 먼저 나오는 것을 확인할 수 있다.  \n",
    "그렇다면 FIFO가 아닌 LIFO라면 어떻게 될까? 단순히 pop(x)가 아닌 pop()만 사용하면 된다. 아래의 코드로 확인해 보자."
   ],
   "cell_type": "markdown",
   "metadata": {}
  },
  {
   "cell_type": "code",
   "execution_count": 32,
   "metadata": {},
   "outputs": [],
   "source": [
    "queue_list2 = list()\n",
    "\n",
    "def enqueue(data):\n",
    "    queue_list2.append(data)\n",
    "def dequeue():\n",
    "    return queue_list2.pop()"
   ]
  },
  {
   "cell_type": "code",
   "execution_count": 33,
   "metadata": {},
   "outputs": [
    {
     "output_type": "execute_result",
     "data": {
      "text/plain": [
       "10"
      ]
     },
     "metadata": {},
     "execution_count": 33
    }
   ],
   "source": [
    "for index in range(10):\n",
    "    enqueue(index)\n",
    "\n",
    "len(queue_list2)"
   ]
  },
  {
   "cell_type": "code",
   "execution_count": 34,
   "metadata": {},
   "outputs": [
    {
     "output_type": "execute_result",
     "data": {
      "text/plain": [
       "9"
      ]
     },
     "metadata": {},
     "execution_count": 34
    }
   ],
   "source": [
    "dequeue()"
   ]
  },
  {
   "cell_type": "code",
   "execution_count": 35,
   "metadata": {},
   "outputs": [
    {
     "output_type": "execute_result",
     "data": {
      "text/plain": [
       "[0, 1, 2, 3, 4, 5, 6, 7, 8]"
      ]
     },
     "metadata": {},
     "execution_count": 35
    }
   ],
   "source": [
    "queue_list2"
   ]
  }
 ]
}