{
 "metadata": {
  "language_info": {
   "codemirror_mode": {
    "name": "ipython",
    "version": 3
   },
   "file_extension": ".py",
   "mimetype": "text/x-python",
   "name": "python",
   "nbconvert_exporter": "python",
   "pygments_lexer": "ipython3",
   "version": "3.9.1-final"
  },
  "orig_nbformat": 2,
  "kernelspec": {
   "name": "python3",
   "display_name": "Python 3.9.1 64-bit",
   "metadata": {
    "interpreter": {
     "hash": "4d6401091f6de5a385c299b068c1e85516af19a094234475c31f99f1aabe410a"
    }
   }
  }
 },
 "nbformat": 4,
 "nbformat_minor": 2,
 "cells": [
  {
   "source": [
    "# 링크드 리스트(Linked List)\n",
    "---"
   ],
   "cell_type": "markdown",
   "metadata": {}
  },
  {
   "source": [
    "## 1. 링크드 리스트 구조\n",
    "---\n",
    "\n",
    "### 1.1. 링크드 리스트란?\n",
    "* 한국어로 번역하면서 일반적으로 링크드 리스트는 **연결 리스트**라고도 호칭한다.\n",
    "* 배열은 순차적으로 연결된 공간에 데이터를 넣는 구조를 가지고 있다. 그런데, 이 배열의 최대 단점은 미리 연결된 공간을 예약해야 한다는 점이다. 배열의 데이터가 연결되지 않고 띄어지는 순간 배열은 그 기능을 상실하게 된다(index 번호가 없어짐).\n",
    "* 배열의 위와 같은 단점을 해결하기 위해 나온 것이 **Linked List**이다.\n",
    "    * Linked List는 배열과 달리 미리 공간을 예약하지 않고 필요할 때마다 데이터를 추가할 수 있는 구조를 가지고 있다.\n",
    "\n",
    "### 1.2. 링크드 리스트의 기본 구조와 용어\n",
    "* 노드(Node): 데이터 저장 단위인 데이터값과 포인터로 구성\n",
    "    * 배열은 데이터만 저장하면 되는데, Linked List는 데이터와 다음 데이터를 가리키는 주소가 하나의 단위이며 이것을 노드라고 칭한다.\n",
    "* 포인터(pointer): 각 노드 안에서, 다음이나 이전의 노드와의 연결 정보를 가지고 있는 공간(데이터 주소)\n",
    "* 링크드 리스트의 형태  \n",
    "<br>\n",
    "![Linked List](https://upload.wikimedia.org/wikipedia/commons/thumb/6/6d/Singly-linked-list.svg/1200px-Singly-linked-list.svg.png)\n",
    "(출처: https://en.wikipedia.org/wiki/Linked_list)"
   ],
   "cell_type": "markdown",
   "metadata": {}
  },
  {
   "source": [
    "## 2. 간단한 링크드 리스트 예\n",
    "---\n"
   ],
   "cell_type": "markdown",
   "metadata": {}
  },
  {
   "source": [
    "### 2.1. 노드(Node) 구현\n",
    "파이썬에서 링크드 리스트 구현 시, 파이썬 클래스를 활용한다.  \n",
    "\n",
    "클래스를 사용해서 하나의 노드를 만드는 이유는, 하나의 노드에는 2가지의 데이터를 저장해야 하는데 이 두 가지 데이터를 저장할 수 있는 구조를 만들 때 클래스를 사용하는 것이 수월하기 때문에 클래스를 사용한다.  \n",
    "\n",
    "노드라는 객체는 만들어질 때마다 별도의 객체가 만들어지고 그 안에 데이터 저장공간과 주소를 넣을 공간이 만들어져야 하기 때문에 `__init__`이라는 함수를 사용한다."
   ],
   "cell_type": "markdown",
   "metadata": {}
  },
  {
   "cell_type": "code",
   "execution_count": 1,
   "metadata": {},
   "outputs": [],
   "source": [
    "class Node:\n",
    "    def __init__(self, data):\n",
    "        self.data = data\n",
    "        self.next = None"
   ]
  },
  {
   "source": [
    "위 클래스를 조금 더 의미있게 써본다면 아래와 같다.  \n",
    "\n",
    "Node 클래스에서 실제 인자는 data 하나이다. 만약 다음 노드를 가리킬 주소까지 넣어주려면 인자를 2개 써주고 2번째 인자인 next를 주소로 인지하고 주소값을 next에 넣어준다. 만약 인자를 하나만 사용하면 2번째 인자는 None으로 생각해서 next에 None이 들어가게 된다."
   ],
   "cell_type": "markdown",
   "metadata": {}
  },
  {
   "cell_type": "code",
   "execution_count": 2,
   "metadata": {},
   "outputs": [],
   "source": [
    "class Node:\n",
    "    def __init__(self, data, next=None):\n",
    "        self.data = data\n",
    "        self.next = next"
   ]
  },
  {
   "source": [
    "### 2.2. Node와 Node 연결하기 (포인터 활용)"
   ],
   "cell_type": "markdown",
   "metadata": {}
  },
  {
   "cell_type": "code",
   "execution_count": 3,
   "metadata": {},
   "outputs": [],
   "source": [
    "node1 = Node(1)\n",
    "node2 = Node(2)\n",
    "node1.next = node2\n",
    "head = node1"
   ]
  },
  {
   "source": [
    "링크드 리스트에서 데이터를 읽거나 탐색하려면 가장 맨 앞에 있는 노드는 알고 있어야 한다. `node1.next = node2`라고 표현을 했기 때문에 node1이 가장 앞에 있는 노드가 되고 head라는 별도의 변수를 사용해서 node1의 주소값을 가지게 만든다."
   ],
   "cell_type": "markdown",
   "metadata": {}
  },
  {
   "source": [
    "### 2.3. 링크드 리스트로 데이터 추가하기"
   ],
   "cell_type": "markdown",
   "metadata": {}
  },
  {
   "cell_type": "code",
   "execution_count": 4,
   "metadata": {},
   "outputs": [],
   "source": [
    "class Node:\n",
    "    def __init__(self, data, next=None):\n",
    "        self.data = data\n",
    "        self.next = next\n",
    "\n",
    "def add(data):\n",
    "    node = head\n",
    "\n",
    "    # 데이터를 추가할 때는 맨 끝의 노드를 찾아가야 한다.\n",
    "    while node.next:        # node에 next가 있는지 확인\n",
    "        node = node.next    # next가 있다면 현재의 노드를 node.next로 저장\n",
    "    \n",
    "    # 만약 next가 None이라면 while문을 탈출하고 현재의 노드가 마지막 노드가 된다.\n",
    "    # 현재의 노드는 아무것도 연결될 것이 없는 상태이기 때문에 여기에 새로운 노드 객체를 생성한다.\n",
    "    node.next = Node(data)"
   ]
  },
  {
   "cell_type": "code",
   "execution_count": 5,
   "metadata": {},
   "outputs": [],
   "source": [
    "node1 = Node(1)\n",
    "node2 = Node(2)\n",
    "head = node1\n",
    "node1.next = node2\n",
    "for i in range(3, 11):\n",
    "    add(i)"
   ]
  },
  {
   "source": [
    "### 2.4. 링크드 리스트 데이터 출력하기(검색하기)"
   ],
   "cell_type": "markdown",
   "metadata": {}
  },
  {
   "cell_type": "code",
   "execution_count": 6,
   "metadata": {},
   "outputs": [
    {
     "output_type": "stream",
     "name": "stdout",
     "text": [
      "1\n2\n3\n4\n5\n6\n7\n8\n9\n10\n"
     ]
    }
   ],
   "source": [
    "node = head\n",
    "while node.next:\n",
    "    print(node.data)\n",
    "    node = node.next\n",
    "print(node.data)"
   ]
  },
  {
   "source": [
    "## 3. 링크드 리스트의 장단점(전통적인 C언어에서의 배열과 링크드리스트)\n",
    "---\n",
    "배열과 링크드 리스트는 각각의 장단점이 존재한다.  \n",
    "\n",
    "* 장점\n",
    "    * linked list는 미리 데이터 공간을 할당하지 않아도 된다.\n",
    "    * 배열은 미리 데이터 공간을 할당해야 한다.\n",
    "* 단점(linked list)\n",
    "    * 연결을 위한 별도 데이터 공간이 필요하기 때문에 저장공간 효율이 떨어진다.\n",
    "    * 연결 정보를 찾는 시간이 필요하기 때문에 접근 속도가 느리다.\n",
    "        * 반면 배열은 인덱스 번호가 존재하기 때문에 원하는 데이터에 바로 접근이 가능하다.\n",
    "    * 중간 데이터를 삭제하거나 삽입할 때 연결 구조를 재구성해야 하는 부가적인 작업이 필요하다."
   ],
   "cell_type": "markdown",
   "metadata": {}
  },
  {
   "source": [
    "## 4. 링크드 리스트의 복잡한 기능1: 링크드 리스트 데이터 사이에 데이터 추가하기\n",
    "---\n",
    "<img src = \"https://upload.wikimedia.org/wikipedia/commons/thumb/4/4b/CPT-LinkedLists-addingnode.svg/1200px-CPT-LinkedLists-addingnode.svg.png\"/>  \n",
    "* 출처: https://en.wikipedia.org/wiki/Linked_list#/media/File:CPT-LinkedLists-addingnode.svg  \n",
    "\n",
    "위 그림처럼 원래 연결된 두 개의 노드 사이에 새로운 노드를 삽입하려면 주소 연결 구조를 바꿔주어야 한다. 이 부분을 코드로 작성해보자."
   ],
   "cell_type": "markdown",
   "metadata": {}
  },
  {
   "cell_type": "code",
   "execution_count": 7,
   "metadata": {},
   "outputs": [
    {
     "output_type": "stream",
     "name": "stdout",
     "text": [
      "1\n2\n3\n4\n5\n6\n7\n8\n9\n10\n"
     ]
    }
   ],
   "source": [
    "# 위에서 linked list에는 1~9 의 데이터를 담았다.\n",
    "node = head\n",
    "while node.next:\n",
    "    print(node.data)\n",
    "    node = node.next\n",
    "print(node.data)"
   ]
  },
  {
   "cell_type": "code",
   "execution_count": 8,
   "metadata": {},
   "outputs": [],
   "source": [
    "# node3을 새로 만들고 1과 2 사이에 넣어보자.\n",
    "node3 = Node(1.5)"
   ]
  },
  {
   "cell_type": "code",
   "execution_count": 9,
   "metadata": {},
   "outputs": [],
   "source": [
    "node = head\n",
    "search = True\n",
    "\n",
    "# 먼저 1.5 앞에 올 1을 찾는다.\n",
    "while search:\n",
    "    if node.data == 1:\n",
    "        search = False\n",
    "    else:\n",
    "        node = node.next"
   ]
  },
  {
   "source": [
    "이제 위에서 인용한 그림을 참고해보자.\n",
    "\n",
    "* 데이터 1을 가진 node1은 그림 속 node와 같다.\n",
    "* 데이터 2를 가진 node2는 그림 속 node.next와 같다.\n",
    "* 데이터 1.5를 가진 node3은 그림 속 new node와 같다.\n",
    "\n",
    "현재 상태가 node1과 node3을 모두 찾은 상태라고 가정한다. 그럼 가장 먼저 할 일은 현재 node1에 담긴 주소가 node2의 주소인데 이 주소를 새로운 변수인 `node_next`에 저장한다.  \n",
    "\n",
    "현재 노드인 node1은 node3을 가리켜야 하고, node3은 node2의 주소가 담긴 `node_next`를 가리켜야 한다.  \n",
    "\n",
    "위 내용을 코드로 구현하면 다음과 같다."
   ],
   "cell_type": "markdown",
   "metadata": {}
  },
  {
   "cell_type": "code",
   "execution_count": 10,
   "metadata": {},
   "outputs": [],
   "source": [
    "node_next = node.next\n",
    "node.next = node3\n",
    "node3.next = node_next"
   ]
  },
  {
   "cell_type": "code",
   "execution_count": 11,
   "metadata": {},
   "outputs": [
    {
     "output_type": "stream",
     "name": "stdout",
     "text": [
      "1\n1.5\n2\n3\n4\n5\n6\n7\n8\n9\n10\n"
     ]
    }
   ],
   "source": [
    "node = head\n",
    "while node.next:\n",
    "    print(node.data)\n",
    "    node = node.next\n",
    "print(node.data)"
   ]
  },
  {
   "source": [
    "## 5. 파이썬 객체지향 프로그래밍으로 링크드 리스트 구현하기\n",
    "---\n"
   ],
   "cell_type": "markdown",
   "metadata": {}
  },
  {
   "cell_type": "code",
   "execution_count": 12,
   "metadata": {},
   "outputs": [],
   "source": [
    "# 각각의 노드를 생성할 수 있는 Node 클래스\n",
    "class Node:\n",
    "    def __init__(self, data, next=None):\n",
    "        self.data = data\n",
    "        self.next = next\n",
    "\n",
    "# linked list를 관리할 수 있는 NodeMgmt 클래스\n",
    "class NodeMgmt:\n",
    "    def __init__(self, data):\n",
    "        # 맨 앞의 head의 주소 값은 알아야 전체 linked list를 검색하거나 추가하는 작업을 할 수 있다.\n",
    "        self.head = Node(data)\n",
    "\n",
    "    # linked list 마지막에 노드를 추가하는 함수    \n",
    "    def add(self, data):\n",
    "\n",
    "        # 만약 head가 없다면 node가 linked list 안에 없다고 생각을 하고,\n",
    "        # 추가할 데이터를 가지고 맨 앞에 있는 노드를 생성한다. (오류를 방어하는 코드)\n",
    "        if self.head == '':\n",
    "            self.head = Node(data)\n",
    "        else:\n",
    "            node = self.head\n",
    "            while node.next:\n",
    "                node = node.next\n",
    "            # node의 next가 None인 경우 마지막 node이므로 그 node에\n",
    "            # 지금 가져올 데이터를 기반으로 하는 노드를 새로 생성해서 주소에 연결해준다.\n",
    "            node.next = Node(data)\n",
    "\n",
    "    # 해당 linked list의 전체 데이터를 출력할 수 있는 함수\n",
    "    # linked list를 처음부터 순회한다.\n",
    "    def desc(self):\n",
    "        node = self.head\n",
    "        while node:\n",
    "            print(node.data)\n",
    "            node = node.next"
   ]
  },
  {
   "cell_type": "code",
   "execution_count": 13,
   "metadata": {},
   "outputs": [
    {
     "output_type": "stream",
     "name": "stdout",
     "text": [
      "0\n"
     ]
    }
   ],
   "source": [
    "linkedlist1 = NodeMgmt(0)\n",
    "linkedlist1.desc()"
   ]
  },
  {
   "cell_type": "code",
   "execution_count": 14,
   "metadata": {},
   "outputs": [
    {
     "output_type": "stream",
     "name": "stdout",
     "text": [
      "0\n1\n2\n3\n4\n5\n6\n7\n8\n9\n"
     ]
    }
   ],
   "source": [
    "for data in range(1, 10):\n",
    "    linkedlist1.add(data)\n",
    "linkedlist1.desc()"
   ]
  },
  {
   "source": [
    "## 6. 링크드 리스트의 복잡한 기능2 (특정 노드를 삭제)\n",
    "---\n",
    "특정 노드를 삭제하는 case는 다음과 같이 3가지로 분류해 볼 수 있다.\n",
    "\n",
    "1. Head 삭제\n",
    "- 모든 linked list는 head를 가지고 있다. 그래서 head를 삭제한다고 head의 존재 자체가 사라지는 것이 아니라 head를 다른 노드로 바꿔주어야 한다.\n",
    "\n",
    "2. 마지막 노드 삭제\n",
    "- 마지막 노드를 삭제하는 경우는 단순히 마지막 노드만 삭제해주면 된다. 다만, 마지막 노드 바로 앞에 있던 노드의 next 주소 값을 null 또는 None으로 변경해주어야 한다.\n",
    "\n",
    "3. 중간 노드 삭제\n",
    "- 중간 노드를 삭제하는 경우 앞에 있던 노드는 중간 노드 다음 노드의 주소를 가질 수 있게 만들어야 한다.  \n",
    "\n",
    "위와 같이 3가지의 경우를 처리할 수 있는 del() 메서드를 앞에서 만든 코드에 추가해보자."
   ],
   "cell_type": "markdown",
   "metadata": {}
  },
  {
   "cell_type": "code",
   "execution_count": 15,
   "metadata": {},
   "outputs": [],
   "source": [
    "class Node:\n",
    "    def __init__(self, data, next=None):\n",
    "        self.data = data\n",
    "        self.next = next\n",
    "\n",
    "class NodeMgmt:\n",
    "    def __init__(self, data):\n",
    "        self.head = Node(data)\n",
    "\n",
    "    def add(self, data):\n",
    "        if self.head == '':\n",
    "            self.head = Node(data)\n",
    "        else:\n",
    "            node = self.head\n",
    "            while node.next:\n",
    "                node = node.next\n",
    "            node.next = Node(data)\n",
    "\n",
    "    def desc(self):\n",
    "        node = self.head\n",
    "        while node:\n",
    "            print(node.data)\n",
    "            node = node.next\n",
    "\n",
    "    def delete(self, data):\n",
    "        # head가 없는 경우 = linked list가 존재하지 않음.\n",
    "        if self.head == '':\n",
    "            print(\"해당 값을 가진 노드가 없습니다.\")\n",
    "            return\n",
    "        \n",
    "        # head를 삭제하는 경우\n",
    "        if self.head.data == data:\n",
    "            temp = self.head\n",
    "            self.head = self.head.next\n",
    "            del temp\n",
    "        # 중간 또는 마지막 노드를 삭제하는 경우\n",
    "        else:\n",
    "            node = self.head\n",
    "            while node.next:\n",
    "                # node의 next가 삭제할 데이터인가?\n",
    "                if node.next.data == data:\n",
    "                    temp = node.next\n",
    "                    node.next = node.next.next\n",
    "                    del temp\n",
    "                # 만약 내가 찾는 노드가 아니라면 다음 노드로 이동한다.   \n",
    "                else:\n",
    "                    node = node.next"
   ]
  },
  {
   "source": [
    "노드를 삭제하는 기능이 제대로 작동하는지 테스트해보자."
   ],
   "cell_type": "markdown",
   "metadata": {}
  },
  {
   "cell_type": "code",
   "execution_count": 16,
   "metadata": {},
   "outputs": [
    {
     "output_type": "stream",
     "name": "stdout",
     "text": [
      "0\n"
     ]
    }
   ],
   "source": [
    "linkedlist1 = NodeMgmt(0)\n",
    "linkedlist1.desc()"
   ]
  },
  {
   "source": [
    "head가 살아있는지 확인해본다."
   ],
   "cell_type": "markdown",
   "metadata": {}
  },
  {
   "cell_type": "code",
   "execution_count": 17,
   "metadata": {},
   "outputs": [
    {
     "output_type": "execute_result",
     "data": {
      "text/plain": [
       "<__main__.Node at 0x104b02cd790>"
      ]
     },
     "metadata": {},
     "execution_count": 17
    }
   ],
   "source": [
    "linkedlist1.head"
   ]
  },
  {
   "source": [
    "0번 노드가 생성이 된 것을 확인할 수 있다.  \n",
    "이 상태에서 head를 지워본다."
   ],
   "cell_type": "markdown",
   "metadata": {}
  },
  {
   "cell_type": "code",
   "execution_count": 18,
   "metadata": {},
   "outputs": [],
   "source": [
    "linkedlist1.delete(0)"
   ]
  },
  {
   "source": [
    "다시 head를 출력해보았을 때 아무것도 나오지 않는다는 것은 linkedlist1.head가 정상적으로 삭제되었다는 것을 의미한다."
   ],
   "cell_type": "markdown",
   "metadata": {}
  },
  {
   "cell_type": "code",
   "execution_count": 19,
   "metadata": {},
   "outputs": [],
   "source": [
    "linkedlist1.head"
   ]
  },
  {
   "source": [
    "다시 하나의 노드를 만들고 여러 개의 노드를 더 추가해본다."
   ],
   "cell_type": "markdown",
   "metadata": {}
  },
  {
   "cell_type": "code",
   "execution_count": 20,
   "metadata": {},
   "outputs": [
    {
     "output_type": "stream",
     "name": "stdout",
     "text": [
      "0\n"
     ]
    }
   ],
   "source": [
    "# linked list에 데이터를 추가할 때는 반드시 head가 필요하기 때문에\n",
    "# 처음 linked list를 생성할 때는 아래의 과정이 필요하다.\n",
    "linkedlist1 = NodeMgmt(0)\n",
    "linkedlist1.desc()"
   ]
  },
  {
   "cell_type": "code",
   "execution_count": 21,
   "metadata": {},
   "outputs": [
    {
     "output_type": "stream",
     "name": "stdout",
     "text": [
      "0\n1\n2\n3\n4\n5\n6\n7\n8\n9\n"
     ]
    }
   ],
   "source": [
    "for data in range(1, 10):\n",
    "    linkedlist1.add(data)\n",
    "linkedlist1.desc()"
   ]
  },
  {
   "source": [
    "특정 노드를 삭제해보고, 정상적으로 삭제되었는지 확인해보자."
   ],
   "cell_type": "markdown",
   "metadata": {}
  },
  {
   "cell_type": "code",
   "execution_count": 22,
   "metadata": {},
   "outputs": [
    {
     "output_type": "stream",
     "name": "stdout",
     "text": [
      "0\n1\n2\n3\n5\n6\n7\n8\n9\n"
     ]
    }
   ],
   "source": [
    "# 중간 노드를 삭제하는 case\n",
    "linkedlist1.delete(4)\n",
    "linkedlist1.desc()"
   ]
  },
  {
   "cell_type": "code",
   "execution_count": 23,
   "metadata": {},
   "outputs": [
    {
     "output_type": "stream",
     "name": "stdout",
     "text": [
      "0\n",
      "1\n",
      "2\n",
      "3\n",
      "5\n",
      "6\n",
      "7\n",
      "8\n"
     ]
    }
   ],
   "source": [
    "# 마지막 노드를 삭제하는 case\n",
    "linkedlist1.delete(9)\n",
    "linkedlist1.desc()"
   ]
  },
  {
   "source": [
    "### 연습문제1: 위의 코드에서 노드 데이터가 2인 노드 삭제해보기"
   ],
   "cell_type": "markdown",
   "metadata": {}
  },
  {
   "cell_type": "code",
   "execution_count": 24,
   "metadata": {},
   "outputs": [
    {
     "output_type": "stream",
     "name": "stdout",
     "text": [
      "0\n1\n3\n5\n6\n7\n8\n"
     ]
    }
   ],
   "source": [
    "linkedlist1.delete(2)\n",
    "linkedlist1.desc()"
   ]
  },
  {
   "source": [
    "### 연습문제2: 위의 코드에서 노드 데이터가 특정 숫자인 노드를 찾는 함수를 만들고 테스트해보기\n",
    "테스트: 임의로 1~9까지 데이터를 링크드르 리스트에 넣어보고, 데이터 값이 4인 노드의 데이터 값을 출력해보자."
   ],
   "cell_type": "markdown",
   "metadata": {}
  },
  {
   "cell_type": "code",
   "execution_count": 25,
   "metadata": {},
   "outputs": [],
   "source": [
    "class Node:\n",
    "    def __init__(self, data, next=None):\n",
    "        self.data = data\n",
    "        self.next = next\n",
    "\n",
    "class NodeMgmt:\n",
    "    def __init__(self, data):\n",
    "        self.head = Node(data)\n",
    "\n",
    "    def add(self, data):\n",
    "        if self.head == '':\n",
    "            self.head = Node(data)\n",
    "        else:\n",
    "            node = self.head\n",
    "            while node.next:\n",
    "                node = node.next\n",
    "            node.next = Node(data)\n",
    "\n",
    "    def desc(self):\n",
    "        node = self.head\n",
    "        while node:\n",
    "            print(node.data)\n",
    "            node = node.next\n",
    "\n",
    "    def delete(self, data):\n",
    "        # head가 없는 경우 = linked list가 존재하지 않음.\n",
    "        if self.head == '':\n",
    "            print(\"해당 값을 가진 노드가 없습니다.\")\n",
    "            return\n",
    "        \n",
    "        # head를 삭제하는 경우\n",
    "        if self.head.data == data:\n",
    "            temp = self.head\n",
    "            self.head = self.head.next\n",
    "            del temp\n",
    "        # 중간 또는 마지막 노드를 삭제하는 경우\n",
    "        else:\n",
    "            node = self.head\n",
    "            while node.next:\n",
    "                # node의 next가 삭제할 데이터인가?\n",
    "                if node.next.data == data:\n",
    "                    temp = node.next\n",
    "                    node.next = node.next.next\n",
    "                    del temp\n",
    "                # 만약 내가 찾는 노드가 아니라면 다음 노드로 이동한다.   \n",
    "                else:\n",
    "                    node = node.next\n",
    "\n",
    "    def search(self, data):\n",
    "        node = self.head\n",
    "        if node == '':\n",
    "            print(\"linked list가 존재하지 않습니다.\")\n",
    "            return\n",
    "        while node:\n",
    "            if node.data == data:\n",
    "                return node\n",
    "            else:\n",
    "                node = node.next"
   ]
  },
  {
   "source": [
    "이제 데이터를 넣고 데이터 값이 4인 노드의 데이터 값을 출력해보자."
   ],
   "cell_type": "markdown",
   "metadata": {}
  },
  {
   "cell_type": "code",
   "execution_count": 26,
   "metadata": {},
   "outputs": [
    {
     "output_type": "stream",
     "name": "stdout",
     "text": [
      "1\n2\n3\n4\n5\n6\n7\n8\n9\n"
     ]
    }
   ],
   "source": [
    "linkedlist1 = NodeMgmt(1)\n",
    "\n",
    "for data in range(2, 10):\n",
    "    linkedlist1.add(data)\n",
    "linkedlist1.desc()"
   ]
  },
  {
   "cell_type": "code",
   "execution_count": 27,
   "metadata": {},
   "outputs": [
    {
     "output_type": "stream",
     "name": "stdout",
     "text": [
      "4\n"
     ]
    }
   ],
   "source": [
    "node = linkedlist1.search(4)\n",
    "print(node.data)"
   ]
  },
  {
   "source": [
    "## 7. 다양한 링크드 리스트 구조\n",
    "---\n",
    "### 링크드 리스트의 단점은 무엇일까?\n",
    "노드가 3개일 때 마지막 노드의 데이터 값을 얻고 싶다면 어떻게 해야 할까? 반드시 링크드 리스트의 헤드를 찾고 거기서 원하는 주소를 찾아 계속해서 이동해야 한다. 노드가 3개일 때는 시간이 오래 소요된다는 느낌을 받지 못하지만 만약 노드가 1만개 있다면 어떻게 될까? 노드가 1만개 일 때 마지막 노드의 데이터를 원하면 head에서부터 1만 번 검색을 해야 한다.  \n",
    "\n",
    "하지만, 노드를 head에서부터만 검색이 가능한 것이 아니라 맨 끝에서부터 head까지 검색을 할 수 있다면 조금 얘기가 달라질 수 있다. 찾으려는 노드가 8000번대에 있다면 head에서부터 검색하는 것보다 끝에서부터 검색하는 것이 훨씬 효율이 좋다. 이러한 발상에서 나온 것이 **더블 링크드 리스트(Doubly linked list)**이다.  \n",
    "\n",
    "더블 링크드 리스트(이중 연결 리스트라고도 부른다)는 기존의 링크드 리스트와 달리 노드의 앞 뒤로 주소를 가지고 있다. 아래의 그림을 참고하면 이해하기가 훨씬 수월하다.\n",
    "\n",
    "<img src=\"https://upload.wikimedia.org/wikipedia/commons/thumb/5/5e/Doubly-linked-list.svg/1200px-Doubly-linked-list.svg.png\">  \n",
    "\n",
    "* 출처: https://en.wikipedia.org/wiki/Linked_list\n",
    "\n",
    "기본적인 더블 링크드 리스트의 구조를 코드로 구현해보자."
   ],
   "cell_type": "markdown",
   "metadata": {}
  },
  {
   "cell_type": "code",
   "execution_count": 28,
   "metadata": {},
   "outputs": [],
   "source": [
    "class Node:\n",
    "    def __init__(self, data, prev=None, next=None):\n",
    "        self.data = data\n",
    "        self.prev = prev\n",
    "        self.next = next\n",
    "\n",
    "class NodeMgmt:\n",
    "    def __init__(self, data):\n",
    "        # NodeMgmt라는 클래스를 처음 생성할 때 default 데이터를 처음 넣어주면\n",
    "        # 그 데이터를 기반으로 해서 최초의 노드가 생성이 되고 그 노드가 head가 되는 것이다.\n",
    "        # 처음 노드가 생성되면 head나 tail이나 모두 동일한 데이터를 가지고 있다.\n",
    "        self.head = Node(data)\n",
    "        self.tail = self.head\n",
    "    \n",
    "    # 기본적인 링크드 리스트와 마찬가지로 데이터를 넣을 때 앞에서부터\n",
    "    # 가장 마지막까지 탐색한 뒤, 마지막 위치에 새로운 노드를 생성한다.\n",
    "    def insert(self, data):\n",
    "        # head가 없는 경우\n",
    "        if self.head == None:\n",
    "            self.head = Node(data)\n",
    "            self.tail = self.head\n",
    "        # head가 있는 경우\n",
    "        else:\n",
    "            node = self.head\n",
    "            # node의 next가 있는 경우(True) 계속해서 탐색하고,\n",
    "            # node의 next가 없는 경우(False) None이기 때문에 while문을 벗어난다.\n",
    "            while node.next:\n",
    "                node = node.next\n",
    "            # node는 반복문이 끝나면 node.next가 None인 것, 즉 마지막 노드의 주소를 가지고 있다.\n",
    "            newNode = Node(data)\n",
    "            node.next = newNode\n",
    "            newNode.prev = node\n",
    "            # tail은 맨 끝의 노드를 가리키는 것인데, 맨 끝의 노드가 새로 생성된\n",
    "            # newNode로 바뀌었기 때문에 tail을 새로 생성된 노드로 변경해준다.\n",
    "            self.tail = newNode\n",
    "\n",
    "    def desc(self):\n",
    "        node = self.head\n",
    "        while node:\n",
    "            print(node.data)\n",
    "            node = node.next"
   ]
  },
  {
   "cell_type": "code",
   "execution_count": 29,
   "metadata": {},
   "outputs": [
    {
     "output_type": "stream",
     "name": "stdout",
     "text": [
      "0\n1\n2\n3\n4\n5\n6\n7\n8\n9\n"
     ]
    }
   ],
   "source": [
    "double_linked_list = NodeMgmt(0)\n",
    "for data in range(1, 10):\n",
    "    double_linked_list.insert(data)\n",
    "double_linked_list.desc()"
   ]
  },
  {
   "source": [
    "## 연습문제3: 위 코드에서 노드 데이터가 특정 숫자인 노드 앞에 데이터를 추가하는 함수를 만들고, 테스트해보기\n",
    "- 더블 링크드 리스트의 tail에서부터 뒤로 이동하며, 특정 숫자인 노드를 찾는 방식으로 함수를 구현하기\n",
    "- 테스트: 임의로 0~9까지 데이터를 링크드 리스트에 넣고, 데이터 값이 2인 노드 앞에 1.5 데이터 값을 가진 노드를 추가해보기\n",
    "\n",
    "### 1) 먼저 head에서부터 검색하는 메서드를 만들어보자."
   ],
   "cell_type": "markdown",
   "metadata": {}
  },
  {
   "cell_type": "code",
   "execution_count": 30,
   "metadata": {},
   "outputs": [],
   "source": [
    "class Node:\n",
    "    def __init__(self, data, prev=None, next=None):\n",
    "        self.data = data\n",
    "        self.prev = prev\n",
    "        self.next = next\n",
    "\n",
    "class NodeMgmt:\n",
    "    def __init__(self, data):\n",
    "        # NodeMgmt라는 클래스를 처음 생성할 때 default 데이터를 처음 넣어주면\n",
    "        # 그 데이터를 기반으로 해서 최초의 노드가 생성이 되고 그 노드가 head가 되는 것이다.\n",
    "        # 처음 노드가 생성되면 head나 tail이나 모두 동일한 데이터를 가지고 있다.\n",
    "        self.head = Node(data)\n",
    "        self.tail = self.head\n",
    "    \n",
    "    # 기본적인 링크드 리스트와 마찬가지로 데이터를 넣을 때 앞에서부터\n",
    "    # 가장 마지막까지 탐색한 뒤, 마지막 위치에 새로운 노드를 생성한다.\n",
    "    def insert(self, data):\n",
    "        # head가 없는 경우\n",
    "        if self.head == None:\n",
    "            self.head = Node(data)\n",
    "            self.tail = self.head\n",
    "        # head가 있는 경우\n",
    "        else:\n",
    "            node = self.head\n",
    "            # node의 next가 있는 경우(True) 계속해서 탐색하고,\n",
    "            # node의 next가 없는 경우(False) None이기 때문에 while문을 벗어난다.\n",
    "            while node.next:\n",
    "                node = node.next\n",
    "            # node는 반복문이 끝나면 node.next가 None인 것, 즉 마지막 노드의 주소를 가지고 있다.\n",
    "            newNode = Node(data)\n",
    "            node.next = newNode\n",
    "            newNode.prev = node\n",
    "            # tail은 맨 끝의 노드를 가리키는 것인데, 맨 끝의 노드가 새로 생성된\n",
    "            # newNode로 바뀌었기 때문에 tail을 새로 생성된 노드로 변경해준다.\n",
    "            self.tail = newNode\n",
    "\n",
    "    def desc(self):\n",
    "        node = self.head\n",
    "        while node:\n",
    "            print(node.data)\n",
    "            node = node.next\n",
    "\n",
    "    # head에서부터 검색하는 메서드        \n",
    "    def search_from_head(self, data):\n",
    "        # 방어코드\n",
    "        if self.head == None:\n",
    "            return False\n",
    "\n",
    "        node = self.head\n",
    "        while node:\n",
    "            if node.data == data:\n",
    "                return node\n",
    "            else:\n",
    "                node = node.next\n",
    "        return False"
   ]
  },
  {
   "cell_type": "code",
   "execution_count": 31,
   "metadata": {},
   "outputs": [
    {
     "output_type": "stream",
     "name": "stdout",
     "text": [
      "0\n1\n2\n3\n4\n5\n6\n7\n8\n9\n"
     ]
    }
   ],
   "source": [
    "double_linked_list = NodeMgmt(0)\n",
    "for data in range(1, 10):\n",
    "    double_linked_list.insert(data)\n",
    "double_linked_list.desc()"
   ]
  },
  {
   "cell_type": "code",
   "execution_count": 32,
   "metadata": {},
   "outputs": [
    {
     "output_type": "execute_result",
     "data": {
      "text/plain": [
       "<__main__.Node at 0x104b02d7c70>"
      ]
     },
     "metadata": {},
     "execution_count": 32
    }
   ],
   "source": [
    "double_linked_list.search_from_head(3)"
   ]
  },
  {
   "source": [
    "3이라는 데이터는 double linked list 내에 존재하기 때문에 해당 노드 객체가 리턴된 것을 확인할 수 있다.  \n",
    "만약, double linked list 내에 존재하지 않는 데이터를 찾고자 한다면 False를 출력한다."
   ],
   "cell_type": "markdown",
   "metadata": {}
  },
  {
   "cell_type": "code",
   "execution_count": 33,
   "metadata": {},
   "outputs": [
    {
     "output_type": "execute_result",
     "data": {
      "text/plain": [
       "False"
      ]
     },
     "metadata": {},
     "execution_count": 33
    }
   ],
   "source": [
    "double_linked_list.search_from_head(10)"
   ]
  },
  {
   "source": [
    "위의 코드를 조금 더 있어 보이게 작성하고 싶다면 아래와 같이 작성할 수 있다."
   ],
   "cell_type": "markdown",
   "metadata": {}
  },
  {
   "cell_type": "code",
   "execution_count": 34,
   "metadata": {},
   "outputs": [
    {
     "output_type": "stream",
     "name": "stdout",
     "text": [
      "No data\n"
     ]
    }
   ],
   "source": [
    "foundNode = double_linked_list.search_from_head(10)\n",
    "if foundNode:\n",
    "    print(foundNode.data)\n",
    "else:\n",
    "    print(\"No data\")"
   ]
  },
  {
   "source": [
    "### 2) tail에서부터 검색하는 메서드를 추가해보자.\n",
    "head에서부터 검색하는 메서드와 전반적인 구조는 동일하고 몇몇 부분만 수정하면 된다."
   ],
   "cell_type": "markdown",
   "metadata": {}
  },
  {
   "cell_type": "code",
   "execution_count": 35,
   "metadata": {},
   "outputs": [],
   "source": [
    "class Node:\n",
    "    def __init__(self, data, prev=None, next=None):\n",
    "        self.data = data\n",
    "        self.prev = prev\n",
    "        self.next = next\n",
    "\n",
    "class NodeMgmt:\n",
    "    def __init__(self, data):\n",
    "        # NodeMgmt라는 클래스를 처음 생성할 때 default 데이터를 처음 넣어주면\n",
    "        # 그 데이터를 기반으로 해서 최초의 노드가 생성이 되고 그 노드가 head가 되는 것이다.\n",
    "        # 처음 노드가 생성되면 head나 tail이나 모두 동일한 데이터를 가지고 있다.\n",
    "        self.head = Node(data)\n",
    "        self.tail = self.head\n",
    "    \n",
    "    # 기본적인 링크드 리스트와 마찬가지로 데이터를 넣을 때 앞에서부터\n",
    "    # 가장 마지막까지 탐색한 뒤, 마지막 위치에 새로운 노드를 생성한다.\n",
    "    def insert(self, data):\n",
    "        # head가 없는 경우\n",
    "        if self.head == None:\n",
    "            self.head = Node(data)\n",
    "            self.tail = self.head\n",
    "        # head가 있는 경우\n",
    "        else:\n",
    "            node = self.head\n",
    "            # node의 next가 있는 경우(True) 계속해서 탐색하고,\n",
    "            # node의 next가 없는 경우(False) None이기 때문에 while문을 벗어난다.\n",
    "            while node.next:\n",
    "                node = node.next\n",
    "            # node는 반복문이 끝나면 node.next가 None인 것, 즉 마지막 노드의 주소를 가지고 있다.\n",
    "            newNode = Node(data)\n",
    "            node.next = newNode\n",
    "            newNode.prev = node\n",
    "            # tail은 맨 끝의 노드를 가리키는 것인데, 맨 끝의 노드가 새로 생성된\n",
    "            # newNode로 바뀌었기 때문에 tail을 새로 생성된 노드로 변경해준다.\n",
    "            self.tail = newNode\n",
    "\n",
    "    def desc(self):\n",
    "        node = self.head\n",
    "        while node:\n",
    "            print(node.data)\n",
    "            node = node.next\n",
    "\n",
    "    # head에서부터 검색하는 메서드        \n",
    "    def search_from_head(self, data):\n",
    "        # 방어코드\n",
    "        if self.head == None:\n",
    "            return False\n",
    "\n",
    "        node = self.head\n",
    "        while node:\n",
    "            if node.data == data:\n",
    "                return node\n",
    "            else:\n",
    "                node = node.next\n",
    "        return False\n",
    "\n",
    "    # tail에서부터 검색하는 메서드        \n",
    "    def search_from_tail(self, data):\n",
    "        # 방어코드\n",
    "        if self.head == None:\n",
    "            return False\n",
    "\n",
    "        node = self.tail\n",
    "        while node:\n",
    "            if node.data == data:\n",
    "                return node\n",
    "            else:\n",
    "                node = node.prev\n",
    "        return False"
   ]
  },
  {
   "cell_type": "code",
   "execution_count": 36,
   "metadata": {},
   "outputs": [
    {
     "output_type": "stream",
     "name": "stdout",
     "text": [
      "0\n1\n2\n3\n4\n5\n6\n7\n8\n9\n"
     ]
    }
   ],
   "source": [
    "double_linked_list = NodeMgmt(0)\n",
    "for data in range(1, 10):\n",
    "    double_linked_list.insert(data)\n",
    "double_linked_list.desc()"
   ]
  },
  {
   "cell_type": "code",
   "execution_count": 37,
   "metadata": {},
   "outputs": [
    {
     "output_type": "execute_result",
     "data": {
      "text/plain": [
       "3"
      ]
     },
     "metadata": {},
     "execution_count": 37
    }
   ],
   "source": [
    "foundNode = double_linked_list.search_from_tail(3)\n",
    "foundNode.data"
   ]
  },
  {
   "source": [
    "### 3) 원래 문제의 의도였던 노드 데이터가 특정 숫자인 노드 앞에 데이터를 추가하는 함수를 만들어보자."
   ],
   "cell_type": "markdown",
   "metadata": {}
  },
  {
   "cell_type": "code",
   "execution_count": 39,
   "metadata": {},
   "outputs": [],
   "source": [
    "class Node:\n",
    "    def __init__(self, data, prev=None, next=None):\n",
    "        self.data = data\n",
    "        self.prev = prev\n",
    "        self.next = next\n",
    "\n",
    "class NodeMgmt:\n",
    "    def __init__(self, data):\n",
    "        # NodeMgmt라는 클래스를 처음 생성할 때 default 데이터를 처음 넣어주면\n",
    "        # 그 데이터를 기반으로 해서 최초의 노드가 생성이 되고 그 노드가 head가 되는 것이다.\n",
    "        # 처음 노드가 생성되면 head나 tail이나 모두 동일한 데이터를 가지고 있다.\n",
    "        self.head = Node(data)\n",
    "        self.tail = self.head\n",
    "    \n",
    "    # 기본적인 링크드 리스트와 마찬가지로 데이터를 넣을 때 앞에서부터\n",
    "    # 가장 마지막까지 탐색한 뒤, 마지막 위치에 새로운 노드를 생성한다.\n",
    "    def insert(self, data):\n",
    "        # head가 없는 경우\n",
    "        if self.head == None:\n",
    "            self.head = Node(data)\n",
    "            self.tail = self.head\n",
    "        # head가 있는 경우\n",
    "        else:\n",
    "            node = self.head\n",
    "            # node의 next가 있는 경우(True) 계속해서 탐색하고,\n",
    "            # node의 next가 없는 경우(False) None이기 때문에 while문을 벗어난다.\n",
    "            while node.next:\n",
    "                node = node.next\n",
    "            # node는 반복문이 끝나면 node.next가 None인 것, 즉 마지막 노드의 주소를 가지고 있다.\n",
    "            newNode = Node(data)\n",
    "            node.next = newNode\n",
    "            newNode.prev = node\n",
    "            # tail은 맨 끝의 노드를 가리키는 것인데, 맨 끝의 노드가 새로 생성된\n",
    "            # newNode로 바뀌었기 때문에 tail을 새로 생성된 노드로 변경해준다.\n",
    "            self.tail = newNode\n",
    "\n",
    "    def desc(self):\n",
    "        node = self.head\n",
    "        while node:\n",
    "            print(node.data)\n",
    "            node = node.next\n",
    "\n",
    "    # head에서부터 검색하는 메서드        \n",
    "    def search_from_head(self, data):\n",
    "        # 방어코드\n",
    "        if self.head == None:\n",
    "            return False\n",
    "\n",
    "        node = self.head\n",
    "        while node:\n",
    "            if node.data == data:\n",
    "                return node\n",
    "            else:\n",
    "                node = node.next\n",
    "        return False\n",
    "\n",
    "    # tail에서부터 검색하는 메서드        \n",
    "    def search_from_tail(self, data):\n",
    "        # 방어코드\n",
    "        if self.head == None:\n",
    "            return False\n",
    "\n",
    "        node = self.tail\n",
    "        while node:\n",
    "            if node.data == data:\n",
    "                return node\n",
    "            else:\n",
    "                node = node.prev\n",
    "        return False\n",
    "\n",
    "    # data라는 데이터 값을 가진 노드를 생성한다.\n",
    "    # 그런데, before_data라는 데이터 값을 가진 특정 노드 앞에 생성한다.\n",
    "    def insert_before(self, data, before_data):\n",
    "\n",
    "        # head가 없다면 현재 받은 data를 가지고 새로운 노드를 생성한다.\n",
    "        if self.head == None:\n",
    "            self.head = Node(data)\n",
    "            # 데이터가 들어갔는지 유무를 확인하기 위해서 bool 자료형을 사용한다.\n",
    "            return True\n",
    "\n",
    "        # doubly linked list가 있는 상태\n",
    "        else:\n",
    "            node = self.tail\n",
    "            # 해당 데이터가 before 데이터인지 확인을 한다.\n",
    "            while node.data != before_data:\n",
    "                node = node.prev\n",
    "                # 앞의 node가 None이라는 것은 데이터가 없다는 뜻이다.\n",
    "                if node == None:\n",
    "                    return False\n",
    "            # node.data == before_data\n",
    "            newNode = Node(data)\n",
    "            before_new = node.prev\n",
    "            before_new.next = newNode\n",
    "            newNode.prev = before_new\n",
    "            newNode.next = node \n",
    "            node.prev = newNode\n",
    "            return True"
   ]
  },
  {
   "source": [
    "insert_before 메서드의 구조가 이해하기 힘들어 그림을 그려 이해해보았다.\n",
    "\n",
    "<img src = \"https://raw.githubusercontent.com/MrKeeplearning/Data-Structure/main/img/insert_before%EB%A9%94%EC%84%9C%EB%93%9C%20%EA%B5%AC%EC%A1%B0.png\">\n",
    "\n",
    "코드를 완성했으니 테스트를 진행해본다."
   ],
   "cell_type": "markdown",
   "metadata": {}
  },
  {
   "cell_type": "code",
   "execution_count": 43,
   "metadata": {},
   "outputs": [
    {
     "output_type": "stream",
     "name": "stdout",
     "text": [
      "0\n1\n2\n3\n4\n5\n6\n7\n8\n9\n"
     ]
    }
   ],
   "source": [
    "double_linked_list = NodeMgmt(0)\n",
    "for data in range(1, 10):\n",
    "    double_linked_list.insert(data)\n",
    "double_linked_list.desc()"
   ]
  },
  {
   "cell_type": "code",
   "execution_count": 44,
   "metadata": {},
   "outputs": [
    {
     "output_type": "stream",
     "name": "stdout",
     "text": [
      "0\n1\n1.5\n2\n3\n4\n5\n6\n7\n8\n9\n"
     ]
    }
   ],
   "source": [
    "# 1.5라는 데이터를 삽입하는데 2라는 데이터 앞에 삽입한다.\n",
    "double_linked_list.insert_before(1.5, 2)\n",
    "double_linked_list.desc()"
   ]
  },
  {
   "cell_type": "code",
   "execution_count": 45,
   "metadata": {},
   "outputs": [
    {
     "output_type": "execute_result",
     "data": {
      "text/plain": [
       "1.5"
      ]
     },
     "metadata": {},
     "execution_count": 45
    }
   ],
   "source": [
    "foundNode = double_linked_list.search_from_tail(1.5)\n",
    "foundNode.data"
   ]
  }
 ]
}