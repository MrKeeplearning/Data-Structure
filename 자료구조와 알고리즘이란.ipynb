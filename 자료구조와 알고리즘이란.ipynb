{
 "metadata": {
  "language_info": {
   "codemirror_mode": {
    "name": "ipython",
    "version": 3
   },
   "file_extension": ".py",
   "mimetype": "text/x-python",
   "name": "python",
   "nbconvert_exporter": "python",
   "pygments_lexer": "ipython3",
   "version": 3
  },
  "orig_nbformat": 2
 },
 "nbformat": 4,
 "nbformat_minor": 2,
 "cells": [
  {
   "source": [
    "## 자료구조란?\n",
    "---\n",
    "\n",
    "* 자료구조, 데이터 구조, data structure 모두 동일하며 이 3가지 용어들을 혼용하면서 사용한다.\n",
    "* 대량의 데이터를 효율적으로 관리할 수 있는 데이터의 구조를 의미한다.  \n",
    "현실세계에 있는 정보를 프로그래밍으로 바꾸려면 그 정보를 변환해서 데이터로 어떻게 컴퓨터에 저장해야 하는지에 대한 방법이 있어야 하는데 그 구조를 자료구조라고 칭한다.\n",
    "* 데이터의 특성에 따라서 적절한 구조화가 필요하고 어떤 데이터 구조를 사용하는지에 따라서 코드의 효율이 달라진다.\n",
    "\n",
    "## 대표적인 자료구조\n",
    "---\n",
    "배열, 스택, 큐, 링크드 리스트, 해쉬 테이블, 힙 등이 있다."
   ],
   "cell_type": "markdown",
   "metadata": {}
  },
  {
   "source": [
    "## 알고리즘이란?\n",
    "---\n",
    "\n",
    "* 어떤 문제를 해결하기 위한 절차 또는 방법\n",
    "* 어떤 문제에 대해 특정한 입력값을 넣으면 원하는 출력값을 얻을 수 있도록 만드는 프로그래밍\n",
    "* 얼마의 시간이 걸리고 얼마의 저장공간을 활용하는지가 주요 관점이다."
   ],
   "cell_type": "markdown",
   "metadata": {}
  },
  {
   "source": [
    "## 자료구조와 알고리즘이 중요한 이유\n",
    "---\n",
    "\n",
    "어떤 자료구조와 알고리즘을 사용하는지에 따라서 성능의 차이가 매우 크다."
   ],
   "cell_type": "markdown",
   "metadata": {}
  }
 ]
}