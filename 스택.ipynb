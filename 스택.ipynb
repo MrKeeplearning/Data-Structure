{
 "metadata": {
  "language_info": {
   "codemirror_mode": {
    "name": "ipython",
    "version": 3
   },
   "file_extension": ".py",
   "mimetype": "text/x-python",
   "name": "python",
   "nbconvert_exporter": "python",
   "pygments_lexer": "ipython3",
   "version": "3.9.1-final"
  },
  "orig_nbformat": 2,
  "kernelspec": {
   "name": "python3",
   "display_name": "Python 3.9.1 64-bit",
   "metadata": {
    "interpreter": {
     "hash": "4d6401091f6de5a385c299b068c1e85516af19a094234475c31f99f1aabe410a"
    }
   }
  }
 },
 "nbformat": 4,
 "nbformat_minor": 2,
 "cells": [
  {
   "source": [
    "# 스택(stack)\n",
    "---\n",
    "* 큐와 유사하게 데이터를 제한적으로 접근할 수 있는 구조이다.\n",
    "    * 한 쪽 끝에서만 데이터를 넣거나 뺄 수 있는 구조를 가지고 있다.\n",
    "* 큐와 다른 점이라면 나중에 쌓은 데이터를 가장 먼저 빼낼 수 있는 구조라는 점이다.\n",
    "    * 큐: FIFO 정책\n",
    "    * 스택: LIFO 정책"
   ],
   "cell_type": "markdown",
   "metadata": {}
  },
  {
   "source": [
    "## 1. 스택 구조\n",
    "---\n",
    "스택은 책상 위에 쌓은 여러 권의 책들에 비유할 수 있다. 책상 위에 여러 권의 두꺼운 전공서적이 쌓여 있고 가장 밑에 있는 책을 꺼내고 싶다면 위에서부터 책을 내려놓아야 한다.(무거우니까)  \n",
    "마찬가지로 스택은 가장 나중에 쌓은 데이터를 가장 먼저 빼낼 수 있는 구조를 따른다. 이러한 구조를 LIFO(Last In, First Out)라고 일컫는다.  \n",
    "> LIFO: 마지막에 넣은 데이터를 가장 먼저 추출하는 데이터 관리 정책\n",
    "\n",
    "스택은 컴퓨터 내부의 프로세스 구조의 함수를 동작하는 방식으로 많이 사용되며 주요 기능으로 push와 pop이 있다.\n",
    "* push(): 데이터를 스택에 넣기\n",
    "* pop(): 데이터를 스택에서 꺼내기"
   ],
   "cell_type": "markdown",
   "metadata": {}
  },
  {
   "source": [
    "## 2. 스택 구조와 프로세스 스택\n",
    "---\n",
    "* 스택 구조는 프로세스 실행 구조의 가장 기본이 되는 구조이다."
   ],
   "cell_type": "markdown",
   "metadata": {}
  },
  {
   "cell_type": "code",
   "execution_count": 1,
   "metadata": {},
   "outputs": [],
   "source": [
    "# 재귀 함수\n",
    "def recursive(data):\n",
    "    if data < 0:\n",
    "        print(\"ended\")\n",
    "    else:\n",
    "        print(data)\n",
    "        recursive(data-1)\n",
    "        print(\"returned\", data)"
   ]
  },
  {
   "cell_type": "code",
   "execution_count": 2,
   "metadata": {},
   "outputs": [
    {
     "output_type": "stream",
     "name": "stdout",
     "text": [
      "4\n3\n2\n1\n0\nended\nreturned 0\nreturned 1\nreturned 2\nreturned 3\nreturned 4\n"
     ]
    }
   ],
   "source": [
    "recursive(4)"
   ]
  },
  {
   "source": [
    "위에서 다룬 재귀함수 recursive() 함수의 동작방식은 스택과 유사하다.    "
   ],
   "cell_type": "markdown",
   "metadata": {}
  },
  {
   "source": [
    "## 3. 자료 구조 스택의 장단점\n",
    "---\n",
    "* 장점\n",
    "    * 구조가 단순해서, 구현이 쉽다.\n",
    "    * 데이터 저장/읽기 속도가 빠르다.\n",
    "* 단점\n",
    "    * 데이터의 최대 갯수를 미리 정해야 한다. 이처럼 미리 최대치의 저장 공간을 확보해두면 평상시에는 그 공간을 모두 사용하지 않아도 계속 여분의 공간을 가지고 있어야 하기 때문에 저장 공간의 낭비가 발생할 수 있다.\n",
    "\n",
    "스택은 단순하고 빠른 성능을 위해 사용되므로, 보통 배열 구조를 활용해서 구현하는 것이 일반적이다."
   ],
   "cell_type": "markdown",
   "metadata": {}
  },
  {
   "source": [
    "## 4. 파이썬 리스트 기능에서 제공하는 메서드로 스택 사용해보기\n",
    "---\n",
    "* 파이썬 리스트 기능에서 제공하는 append(push), pop 등과 같은 메서드를 사용하면 간단히 스택의 구조를 시뮬레이션 할 수 있다."
   ],
   "cell_type": "markdown",
   "metadata": {}
  },
  {
   "cell_type": "code",
   "execution_count": 3,
   "metadata": {},
   "outputs": [],
   "source": [
    "data_stack = list()\n",
    "\n",
    "data_stack.append(1)\n",
    "data_stack.append(2)"
   ]
  },
  {
   "cell_type": "code",
   "execution_count": 4,
   "metadata": {},
   "outputs": [
    {
     "output_type": "execute_result",
     "data": {
      "text/plain": [
       "[1, 2]"
      ]
     },
     "metadata": {},
     "execution_count": 4
    }
   ],
   "source": [
    "data_stack"
   ]
  },
  {
   "cell_type": "code",
   "execution_count": 5,
   "metadata": {},
   "outputs": [
    {
     "output_type": "execute_result",
     "data": {
      "text/plain": [
       "2"
      ]
     },
     "metadata": {},
     "execution_count": 5
    }
   ],
   "source": [
    "data_stack.pop()"
   ]
  },
  {
   "source": [
    "## 5. 프로그래밍 연습\n",
    "---\n",
    "### 연습문제1\n",
    "리스트 변수로 스택을 다루는 pop, push 기능 구현해보기(pop, push 함수를 사용하지 않고 직접 구현해보자)."
   ],
   "cell_type": "markdown",
   "metadata": {}
  },
  {
   "cell_type": "code",
   "execution_count": 6,
   "metadata": {},
   "outputs": [],
   "source": [
    "stack_list = list()\n",
    "\n",
    "def push(data):\n",
    "    stack_list.append(data)\n",
    "\n",
    "def pop():\n",
    "    pop_data = stack_list[-1]\n",
    "    del stack_list[-1]\n",
    "    return pop_data"
   ]
  },
  {
   "cell_type": "code",
   "execution_count": 7,
   "metadata": {},
   "outputs": [],
   "source": [
    "for i in range(10):\n",
    "    push(i)"
   ]
  },
  {
   "cell_type": "code",
   "execution_count": 8,
   "metadata": {},
   "outputs": [
    {
     "output_type": "execute_result",
     "data": {
      "text/plain": [
       "[0, 1, 2, 3, 4, 5, 6, 7, 8, 9]"
      ]
     },
     "metadata": {},
     "execution_count": 8
    }
   ],
   "source": [
    "stack_list"
   ]
  },
  {
   "cell_type": "code",
   "execution_count": 9,
   "metadata": {},
   "outputs": [
    {
     "output_type": "execute_result",
     "data": {
      "text/plain": [
       "9"
      ]
     },
     "metadata": {},
     "execution_count": 9
    }
   ],
   "source": [
    "pop()"
   ]
  },
  {
   "cell_type": "code",
   "execution_count": 10,
   "metadata": {},
   "outputs": [
    {
     "output_type": "execute_result",
     "data": {
      "text/plain": [
       "[0, 1, 2, 3, 4, 5, 6, 7, 8]"
      ]
     },
     "metadata": {},
     "execution_count": 10
    }
   ],
   "source": [
    "stack_list"
   ]
  }
 ]
}