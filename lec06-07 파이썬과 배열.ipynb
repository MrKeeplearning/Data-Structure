{
 "metadata": {
  "language_info": {
   "codemirror_mode": {
    "name": "ipython",
    "version": 3
   },
   "file_extension": ".py",
   "mimetype": "text/x-python",
   "name": "python",
   "nbconvert_exporter": "python",
   "pygments_lexer": "ipython3",
   "version": "3.9.1-final"
  },
  "orig_nbformat": 2,
  "kernelspec": {
   "name": "python3",
   "display_name": "Python 3.9.1 64-bit",
   "metadata": {
    "interpreter": {
     "hash": "4d6401091f6de5a385c299b068c1e85516af19a094234475c31f99f1aabe410a"
    }
   }
  }
 },
 "nbformat": 4,
 "nbformat_minor": 2,
 "cells": [
  {
   "source": [
    "파이썬에서는 리스트로 배열을 구현하는 것이 가능하다."
   ],
   "cell_type": "markdown",
   "metadata": {}
  },
  {
   "cell_type": "code",
   "execution_count": 3,
   "metadata": {},
   "outputs": [
    {
     "output_type": "execute_result",
     "data": {
      "text/plain": [
       "[1, 2, 3, 4, 5]"
      ]
     },
     "metadata": {},
     "execution_count": 3
    }
   ],
   "source": [
    "# 1차원 배열을 리스트로 구현한다.\n",
    "data = [1,2,3,4,5]\n",
    "data"
   ]
  },
  {
   "cell_type": "code",
   "execution_count": 6,
   "metadata": {},
   "outputs": [
    {
     "output_type": "execute_result",
     "data": {
      "text/plain": [
       "[[1, 2, 3], [4, 5, 6], [7, 8, 9]]"
      ]
     },
     "metadata": {},
     "execution_count": 6
    }
   ],
   "source": [
    "# 2차원 배열을 리스트로 구현한다.\n",
    "data = [[1,2,3], [4,5,6], [7,8,9]]\n",
    "data"
   ]
  },
  {
   "source": [
    "# 위에서 만든 2차원 배열의 첫 번째 행에 접근\n",
    "data[0]"
   ],
   "cell_type": "code",
   "metadata": {},
   "execution_count": 7,
   "outputs": [
    {
     "output_type": "execute_result",
     "data": {
      "text/plain": [
       "[1, 2, 3]"
      ]
     },
     "metadata": {},
     "execution_count": 7
    }
   ]
  },
  {
   "cell_type": "code",
   "execution_count": 8,
   "metadata": {},
   "outputs": [
    {
     "output_type": "execute_result",
     "data": {
      "text/plain": [
       "1"
      ]
     },
     "metadata": {},
     "execution_count": 8
    }
   ],
   "source": [
    "# 첫 번째 행의 첫 번째 요소에 접근\n",
    "data[0][0]"
   ]
  },
  {
   "source": [
    "### 연습문제1: 위의 2차원 배열에서 9, 8, 7을 순서대로 출력해보기\n",
    "---"
   ],
   "cell_type": "markdown",
   "metadata": {}
  },
  {
   "cell_type": "code",
   "execution_count": 9,
   "metadata": {},
   "outputs": [
    {
     "output_type": "stream",
     "name": "stdout",
     "text": [
      "9\n8\n7\n"
     ]
    }
   ],
   "source": [
    "print(data[2][2])\n",
    "print(data[2][1])\n",
    "print(data[2][0])"
   ]
  },
  {
   "source": [
    "### 연습문제2: 주어진 dataset에서 M이 몇 번 나왔는지 빈도 수를 체크해보기\n",
    "---"
   ],
   "cell_type": "markdown",
   "metadata": {}
  },
  {
   "cell_type": "code",
   "execution_count": 11,
   "metadata": {},
   "outputs": [],
   "source": [
    "dataset = ['Braund, Mr. Owen Harris',\n",
    "'Cumings, Mrs. John Bradley (Florence Briggs Thayer)',\n",
    "'Heikkinen, Miss. Laina',\n",
    "'Futrelle, Mrs. Jacques Heath (Lily May Peel)',\n",
    "'Allen, Mr. William Henry',\n",
    "'Moran, Mr. James',\n",
    "'McCarthy, Mr. Timothy J',\n",
    "'Palsson, Master. Gosta Leonard',\n",
    "'Johnson, Mrs. Oscar W (Elisabeth Vilhelmina Berg)',\n",
    "'Nasser, Mrs. Nicholas (Adele Achem)',\n",
    "'Sandstrom, Miss. Marguerite Rut',\n",
    "'Bonnell, Miss. Elizabeth',\n",
    "'Saundercock, Mr. William Henry',\n",
    "'Andersson, Mr. Anders Johan',\n",
    "'Vestrom, Miss. Hulda Amanda Adolfina',\n",
    "'Hewlett, Mrs. (Mary D Kingcome) ',\n",
    "'Rice, Master. Eugene',\n",
    "'Williams, Mr. Charles Eugene',\n",
    "'Vander Planke, Mrs. Julius (Emelia Maria Vandemoortele)',\n",
    "'Masselmani, Mrs. Fatima',\n",
    "'Fynney, Mr. Joseph J',\n",
    "'Beesley, Mr. Lawrence',\n",
    "'McGowan, Miss. Anna \"Annie\"',\n",
    "'Sloper, Mr. William Thompson',\n",
    "'Palsson, Miss. Torborg Danira',\n",
    "'Asplund, Mrs. Carl Oscar (Selma Augusta Emilia Johansson)',\n",
    "'Emir, Mr. Farred Chehab',\n",
    "'Fortune, Mr. Charles Alexander',\n",
    "'Dwyer, Miss. Ellen \"Nellie\"',\n",
    "'Todoroff, Mr. Lalio']"
   ]
  },
  {
   "cell_type": "code",
   "execution_count": 14,
   "metadata": {},
   "outputs": [
    {
     "output_type": "stream",
     "name": "stdout",
     "text": [
      "38\n"
     ]
    }
   ],
   "source": [
    "count = 0\n",
    "for findM in dataset:\n",
    "    for countM in range(len(findM)):\n",
    "        if findM[countM] == 'M':\n",
    "            count += 1\n",
    "\n",
    "print(count)"
   ]
  },
  {
   "source": [
    "#### 연습문제2 풀이1"
   ],
   "cell_type": "markdown",
   "metadata": {}
  },
  {
   "source": [
    "리스트 안에 있는 모든 데이터에서 문자 'M'의 개수를 확인해야 한다. 따라서 우선 리스트 전체를 순회해야 한다. "
   ],
   "cell_type": "markdown",
   "metadata": {}
  },
  {
   "cell_type": "code",
   "execution_count": 28,
   "metadata": {},
   "outputs": [
    {
     "output_type": "stream",
     "name": "stdout",
     "text": [
      "Braund, Mr. Owen Harris\nCumings, Mrs. John Bradley (Florence Briggs Thayer)\nHeikkinen, Miss. Laina\nFutrelle, Mrs. Jacques Heath (Lily May Peel)\nAllen, Mr. William Henry\nMoran, Mr. James\nMcCarthy, Mr. Timothy J\nPalsson, Master. Gosta Leonard\nJohnson, Mrs. Oscar W (Elisabeth Vilhelmina Berg)\nNasser, Mrs. Nicholas (Adele Achem)\nSandstrom, Miss. Marguerite Rut\nBonnell, Miss. Elizabeth\nSaundercock, Mr. William Henry\nAndersson, Mr. Anders Johan\nVestrom, Miss. Hulda Amanda Adolfina\nHewlett, Mrs. (Mary D Kingcome) \nRice, Master. Eugene\nWilliams, Mr. Charles Eugene\nVander Planke, Mrs. Julius (Emelia Maria Vandemoortele)\nMasselmani, Mrs. Fatima\nFynney, Mr. Joseph J\nBeesley, Mr. Lawrence\nMcGowan, Miss. Anna \"Annie\"\nSloper, Mr. William Thompson\nPalsson, Miss. Torborg Danira\nAsplund, Mrs. Carl Oscar (Selma Augusta Emilia Johansson)\nEmir, Mr. Farred Chehab\nFortune, Mr. Charles Alexander\nDwyer, Miss. Ellen \"Nellie\"\nTodoroff, Mr. Lalio\n"
     ]
    }
   ],
   "source": [
    "for findM in dataset:\n",
    "    print(findM)"
   ]
  },
  {
   "source": [
    "이렇게 리스트 전체를 for문으로 순회하면 findM 이라는 변수에는 리스트 전체 data에서 각각의 index 번호에 맞는 데이터들이 담기게 된다.\n",
    "\n",
    "이제 각 인덱스 별 데이터에서 M이라는 문자열만 뽑아내야 한다. 그렇다면 현재 필요한 것은 다음과 같을 것이다.\n",
    "* `findM`을 다시 한 번 순회\n",
    "* 조건문을 사용해서 'M'만 추려내기\n",
    "\n",
    "M이라는 문자열만 뽑아내기 위해 먼저 위의 `findM`을 순회해야 하는데 `findM`의 전체 길이를 알아낸다면 M이 위치한 index만 쉽게 찾아낼 수 있을 것이다. 그래서 사용한 것이 len()함수이고, index 0번부터 마지막 index 번호까지 순회하기 위해 range()함수를 사용한다.\n",
    "\n",
    "> `for countM in range(len(findM)):`\n",
    "\n",
    "이렇게 `findM`을 순회하다가 어떤 index에 해당하는 값이 'M'과 일치한다면 count를 1만큼 증가시킨다.\n",
    "\n",
    "> `if findM[countM] == 'M': count += 1`"
   ],
   "cell_type": "markdown",
   "metadata": {}
  },
  {
   "source": [
    "그리고 최종적으로 count의 값을 출력하면 'M'의 개수를 확인할 수 있다."
   ],
   "cell_type": "markdown",
   "metadata": {}
  },
  {
   "source": [
    "#### 연습문제2 풀이2\n",
    "위의 방법 뿐만이 아니라 아래의 2가지 방법을 사용해서도 해결이 가능하다."
   ],
   "cell_type": "markdown",
   "metadata": {}
  },
  {
   "cell_type": "code",
   "execution_count": 85,
   "metadata": {},
   "outputs": [
    {
     "output_type": "stream",
     "name": "stdout",
     "text": [
      "38\n"
     ]
    }
   ],
   "source": [
    "total = sum(s.count('M') for s in dataset)\n",
    "print(total)"
   ]
  },
  {
   "cell_type": "code",
   "execution_count": 77,
   "metadata": {},
   "outputs": [
    {
     "output_type": "stream",
     "name": "stdout",
     "text": [
      "38\n"
     ]
    }
   ],
   "source": [
    "list1 = [data.count('M') for data in dataset]\n",
    "m_sum = sum(list1)\n",
    "print(m_sum)"
   ]
  }
 ]
}